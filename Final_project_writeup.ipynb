{
 "cells": [
  {
   "cell_type": "markdown",
   "metadata": {},
   "source": [
    "### Clearly define a problem or an idea of your choice, where you would need to leverage the Foursquare location data to solve or execute.Remember that data science problems always target an audience and are meant to help a group of stakeholders solve a problem, so make sure that you explicitly describe your audience and why they would care about your problem."
   ]
  },
  {
   "cell_type": "markdown",
   "metadata": {},
   "source": [
    "A hotel company wants to build a new hotel (perhaps several new hotels) in Nashville. They are currently exloring different potential locations within the city. Among other things, for this undertaking they are especially interested in learning about the live music scene. This is a uniquely crucial factor in Nashville, a city which is also referred to as \"Music City\", as well as \"The Country Music Capital of the World\". To choose one or more hotel locations, it will obviously be necessary to analyze many different types of data - real estate costs, accessability, physical and legal construction obstacles, and the potential impact of hotel competition. However the purpose of this report will be to provide special insight specifically to the live music scene in Nashville which can hopefully be used to compliment other research and analysis. The ideal scenario would be for a hotel's location to have multiple popular live music venues within walking distance."
   ]
  },
  {
   "cell_type": "markdown",
   "metadata": {},
   "source": [
    "### Describe the data that you will be using to solve the problem or execute your idea. Remember that you will need to use the Foursquare location data to solve the problem or execute your idea. You can absolutely use other datasets in combination with the Foursquare location data. So make sure that you provide adequate explanation and discussion, with examples, of the data that you will be using, even if it is only Foursquare location data."
   ]
  },
  {
   "cell_type": "markdown",
   "metadata": {},
   "source": [
    "I will be analyzing the location data of live music venues using the Foursquare API. I would like find what regions within the city are known for live music. First I will plot the maximum** number of live music venue coordinates onto a map of Nashville. I will use clustering to identify music venue \"hot-spots\" and study the characteriscs of each of those hot spots using \"category\" data from the Foursquare API. Lastly I will also use the Foursquare API to identify the top ten venues in Nashville based on customer rating. \n",
    "\n",
    "** The free version of the foursquare API only allows up to 50 results per call to the API. Luckily, the area surrounding the center of Nashville that includes the 50 nearest venues extends almost to the city limits. So despite the limitation, the results should be sufficient for some meaningfull data analysis."
   ]
  },
  {
   "cell_type": "code",
   "execution_count": null,
   "metadata": {},
   "outputs": [],
   "source": []
  }
 ],
 "metadata": {
  "kernelspec": {
   "display_name": "Python 3",
   "language": "python",
   "name": "python3"
  },
  "language_info": {
   "codemirror_mode": {
    "name": "ipython",
    "version": 3
   },
   "file_extension": ".py",
   "mimetype": "text/x-python",
   "name": "python",
   "nbconvert_exporter": "python",
   "pygments_lexer": "ipython3",
   "version": "3.7.4"
  }
 },
 "nbformat": 4,
 "nbformat_minor": 4
}
