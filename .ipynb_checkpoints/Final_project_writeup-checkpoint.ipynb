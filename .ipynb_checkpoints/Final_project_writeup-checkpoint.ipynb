{
 "cells": [
  {
   "cell_type": "markdown",
   "metadata": {},
   "source": [
    "### Problem Identification"
   ]
  },
  {
   "cell_type": "markdown",
   "metadata": {},
   "source": [
    "A hotel company wants to build a new hotel (perhaps several new hotels) in Nashville. They are currently exloring different potential locations within the city. Among other things, for this undertaking they are especially interested in learning about the live music scene. This is a uniquely crucial factor in Nashville, a city which is also referred to as \"Music City\", as well as \"The Country Music Capital of the World\". To choose one or more hotel locations, it will obviously be necessary to analyze many different types of data - real estate costs, accessability, physical and legal construction obstacles, and the potential impact of hotel competition. However the purpose of this report will be to provide special insight specifically to the live music scene in Nashville which can hopefully be used to compliment other research and analysis. The ideal scenario would be for a hotel's location to have multiple popular live music venues within walking distance."
   ]
  },
  {
   "cell_type": "markdown",
   "metadata": {},
   "source": [
    "### Data Description"
   ]
  },
  {
   "cell_type": "markdown",
   "metadata": {},
   "source": [
    "I will be analyzing the location data of live music venues using the Foursquare API. I would like to find what regions within the city are known for live music. First I will plot the maximum** number of live music venue coordinates onto a map of Nashville. I will use clustering to identify music venue \"hot-spots\" and study the characteristics of each of those hot spots using \"category\" data from the Foursquare API. Lastly I will also use the Foursquare API to identify the top ten venues in Nashville based on customer rating. \n",
    "\n",
    "** The free version of the foursquare API only allows up to 50 results per call to the API. Luckily, the area surrounding the center of Nashville that includes the 50 nearest venues extends almost to the city limits. So despite the limitation, the data set should be sufficient for some meaningfull analysis."
   ]
  },
  {
   "cell_type": "markdown",
   "metadata": {},
   "source": [
    "### Methodology"
   ]
  },
  {
   "cell_type": "markdown",
   "metadata": {},
   "source": [
    "First I obtained the location data from the Foursquare API for music venues in Nashville. I searched for venues using the music venue category (a list of venue categorie IDs can be found on the Foursquare website), starting with a 500 meter radius and then expanding the radius until the call returned the maximum number (50) of results, which occurred at 5000 meters. Those results were returned in JSON format, so I converted the results into a dataframe, cleaned up the dataframe for clarity and plotted the results onto a map using Folium. I could see from the resulting map, that there were at least 3 or 4 clusters of music venues at certain locations within the city. \n",
    "\n",
    "So the next step was to find more information about those clusters. I chose to use DBSCAN because it is able to detect clusters of various different shapes based on density. I applied the DBSCAN algorithm to the location coordinates of the 50 venues. At eps=.25 and min_samples = 10, the algorithm only returned 1 cluster, so I lowered the minum number of samples until multiple clusters were detected, which occurred at min_samples = 4. Using these settings, the algorithm detected 5 distinct clusters of music venues within the city. For some basic insight I made a new dataframe with the venue name, any additional venue categories (other than \"Music Venue\") and cluster number of each venue. I could see that cluster 1 was by far the largest, with 19 venues and that 36 of the 50 venues were located within clusters. \n",
    "\n",
    "To gain some further insight into each of these clusters, I generated bar charts to show the breakdown of different venue categories for each cluster. This allows us to see what types of music venues are located in each of the clusters. I also created a loop to call the venue details for each venue and display the venue id and venue ratings from the Foursquare API. This information allowed me to create a dataframe to show the venue name and cluster number for each venue with a top 10 rating. I felt that this final step was very important, because though most venues are located within clusters, it is possible that some of the best venues may be located outside of the clusters. The final dataframe shows the representation of each of the 5 clusters and the outliers within the top venues in Nashville."
   ]
  },
  {
   "cell_type": "markdown",
   "metadata": {},
   "source": [
    "### Results"
   ]
  },
  {
   "cell_type": "markdown",
   "metadata": {},
   "source": [
    "As expected, the cluster with the most venues is \"cluster 1\" which is located in the center of the Nashville downtown area. This cluster not only had the most venues but also by far the most venues within the list of top ten rated venues. This is easily the best location for a hotel in terms of access to nearby music venues. \n",
    "\n",
    "However the results show that this is not the only potential location with access to multiple neaby music venues. There are 5 distinct clusters in different areas of Nashvile, any of which would be worthy of consideration. There are also two venues within the top ten that are outliers. So it may be worthwhile to consider locations outside of the 5 clusters."
   ]
  },
  {
   "cell_type": "markdown",
   "metadata": {},
   "source": [
    "### Discussion"
   ]
  },
  {
   "cell_type": "markdown",
   "metadata": {},
   "source": [
    "It is my recommendation to select a location within cluster 1 if at all possible. However if that it is not feasible, the other four locations identified by DBSCAN would also be worth considering. Cluster 4 would be my second choice. It has 5 venues, 4 of which are primarily music venues (not bars or restaurants that also have live music). This would be a strong choice as well. I would avoid South Nashville east of I65, and North Nashville. It also may be worth considering areas outside of the clusters, because 2 of the top ten rated venues are outliers. A hotel guest may be happy to stay near just one or two live music venues if they are able to hear excellent music."
   ]
  },
  {
   "cell_type": "markdown",
   "metadata": {},
   "source": [
    "### Conclusion"
   ]
  },
  {
   "cell_type": "markdown",
   "metadata": {},
   "source": [
    "These results suggest a clear preference for certain areas within Nashville. I'm sure this information will be useful, when combined with other data analysis, in choosing a hotel location. It is important to note that though this information is meaningful, it is not 100% complete. Not only are there limitations to the API based on the version that I was using (which limited my results to 50), but also I was able to find several music venues in Nashville that are either not in the foursquare API, or not categorized in the Foursquare API correctly. (The Back Corner in German Town is one such venue)\n",
    "\n",
    "Not only did this analysis yield some meaningful results in my opinion, but I found it exciting to realize just how prevalent live music is in Nashville. With the exception of the South Nashville area - East of I 65, and North Nashville, there is always a live music venue nearby."
   ]
  },
  {
   "cell_type": "code",
   "execution_count": null,
   "metadata": {},
   "outputs": [],
   "source": []
  }
 ],
 "metadata": {
  "kernelspec": {
   "display_name": "Python 3",
   "language": "python",
   "name": "python3"
  },
  "language_info": {
   "codemirror_mode": {
    "name": "ipython",
    "version": 3
   },
   "file_extension": ".py",
   "mimetype": "text/x-python",
   "name": "python",
   "nbconvert_exporter": "python",
   "pygments_lexer": "ipython3",
   "version": "3.7.4"
  }
 },
 "nbformat": 4,
 "nbformat_minor": 4
}
