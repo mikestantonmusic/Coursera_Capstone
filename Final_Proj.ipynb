{
 "cells": [
  {
   "cell_type": "code",
   "execution_count": 39,
   "metadata": {},
   "outputs": [
    {
     "name": "stdout",
     "output_type": "stream",
     "text": [
      "Folium installed\n",
      "Libraries imported.\n"
     ]
    }
   ],
   "source": [
    "import requests # library to handle requests\n",
    "import pandas as pd # library for data analsysis\n",
    "import numpy as np # library to handle data in a vectorized manner\n",
    "import random # library for random number generation\n",
    "\n",
    "# libraries for displaying images\n",
    "from IPython.display import Image \n",
    "from IPython.core.display import HTML \n",
    "    \n",
    "# tranforming json file into a pandas dataframe library\n",
    "from pandas.io.json import json_normalize\n",
    "\n",
    "import folium # plotting library\n",
    "\n",
    "print('Folium installed')\n",
    "print('Libraries imported.')"
   ]
  },
  {
   "cell_type": "code",
   "execution_count": 40,
   "metadata": {},
   "outputs": [
    {
     "name": "stdout",
     "output_type": "stream",
     "text": [
      "Your credentails:\n",
      "CLIENT_ID: NRX2HJ0WUADV3KS2ZW0RUZ2X1X5FV5GZ5EQCRUKKEYP2TIKC\n",
      "CLIENT_SECRET:JJAWZLNLGMP51ATVOQLL4U0SRPOX30ROP4VBHYJHHXR5OTAQ\n"
     ]
    }
   ],
   "source": [
    "CLIENT_ID = 'NRX2HJ0WUADV3KS2ZW0RUZ2X1X5FV5GZ5EQCRUKKEYP2TIKC' # your Foursquare ID\n",
    "CLIENT_SECRET = 'JJAWZLNLGMP51ATVOQLL4U0SRPOX30ROP4VBHYJHHXR5OTAQ' # your Foursquare Secret\n",
    "VERSION = '20180604'\n",
    "LIMIT = 50\n",
    "print('Your credentails:')\n",
    "print('CLIENT_ID: ' + CLIENT_ID)\n",
    "print('CLIENT_SECRET:' + CLIENT_SECRET)"
   ]
  },
  {
   "cell_type": "markdown",
   "metadata": {},
   "source": [
    "### We will be exploring music venues in Nashville. \n",
    "### The first step is to retrieve the location data using the Foursquare API for the music venues closest to the center of Nashville.\n",
    "### Unfortunately the free version of the Foursquare API limits queries to 50 results.\n",
    "### However the 50 results actually cover an area roughly the size of Nashville, so this data will be enough for some meaningful analysis."
   ]
  },
  {
   "cell_type": "code",
   "execution_count": 41,
   "metadata": {},
   "outputs": [],
   "source": [
    "latitude = 36.174465\n",
    "longitude = -86.767960\n",
    "radius = 5000\n",
    "categoryId= '4bf58dd8d48988d1e5931735' #instead of searching a query, search by categoryId using the categoryId for Live Music Venues - there is a list of cat-Ids on the foursquare website\n",
    "url = 'https://api.foursquare.com/v2/venues/search?client_id={}&client_secret={}&ll={},{}&v={}&radius={}&limit={}&categoryId={}'.format(CLIENT_ID, CLIENT_SECRET, latitude, longitude, VERSION, radius, LIMIT, categoryId)\n",
    "results = requests.get(url).json()"
   ]
  },
  {
   "cell_type": "markdown",
   "metadata": {},
   "source": [
    "### After retreiving the location data using the Foursquare API, we convert the information from JSON format to a dataframe"
   ]
  },
  {
   "cell_type": "code",
   "execution_count": 42,
   "metadata": {},
   "outputs": [
    {
     "data": {
      "text/html": [
       "<div>\n",
       "<style scoped>\n",
       "    .dataframe tbody tr th:only-of-type {\n",
       "        vertical-align: middle;\n",
       "    }\n",
       "\n",
       "    .dataframe tbody tr th {\n",
       "        vertical-align: top;\n",
       "    }\n",
       "\n",
       "    .dataframe thead th {\n",
       "        text-align: right;\n",
       "    }\n",
       "</style>\n",
       "<table border=\"1\" class=\"dataframe\">\n",
       "  <thead>\n",
       "    <tr style=\"text-align: right;\">\n",
       "      <th></th>\n",
       "      <th>id</th>\n",
       "      <th>name</th>\n",
       "      <th>categories</th>\n",
       "      <th>referralId</th>\n",
       "      <th>hasPerk</th>\n",
       "      <th>location.address</th>\n",
       "      <th>location.lat</th>\n",
       "      <th>location.lng</th>\n",
       "      <th>location.labeledLatLngs</th>\n",
       "      <th>location.distance</th>\n",
       "      <th>...</th>\n",
       "      <th>location.formattedAddress</th>\n",
       "      <th>delivery.id</th>\n",
       "      <th>delivery.url</th>\n",
       "      <th>delivery.provider.name</th>\n",
       "      <th>delivery.provider.icon.prefix</th>\n",
       "      <th>delivery.provider.icon.sizes</th>\n",
       "      <th>delivery.provider.icon.name</th>\n",
       "      <th>location.crossStreet</th>\n",
       "      <th>venuePage.id</th>\n",
       "      <th>location.neighborhood</th>\n",
       "    </tr>\n",
       "  </thead>\n",
       "  <tbody>\n",
       "    <tr>\n",
       "      <td>0</td>\n",
       "      <td>5538733e498e339377d11a0f</td>\n",
       "      <td>The Basement East</td>\n",
       "      <td>[{'id': '4bf58dd8d48988d1e9931735', 'name': 'R...</td>\n",
       "      <td>v-1602906464</td>\n",
       "      <td>False</td>\n",
       "      <td>917 Woodland St</td>\n",
       "      <td>36.175629</td>\n",
       "      <td>-86.755681</td>\n",
       "      <td>[{'label': 'display', 'lat': 36.17562944628696...</td>\n",
       "      <td>1110</td>\n",
       "      <td>...</td>\n",
       "      <td>[917 Woodland St, Nashville, TN 37206, United ...</td>\n",
       "      <td>2249008</td>\n",
       "      <td>https://www.grubhub.com/restaurant/the-pub-at-...</td>\n",
       "      <td>grubhub</td>\n",
       "      <td>https://fastly.4sqi.net/img/general/cap/</td>\n",
       "      <td>[40, 50]</td>\n",
       "      <td>/delivery_provider_grubhub_20180129.png</td>\n",
       "      <td>NaN</td>\n",
       "      <td>NaN</td>\n",
       "      <td>NaN</td>\n",
       "    </tr>\n",
       "    <tr>\n",
       "      <td>1</td>\n",
       "      <td>4b058668f964a520cb6022e3</td>\n",
       "      <td>3rd &amp; Lindsley Bar and Grill</td>\n",
       "      <td>[{'id': '4bf58dd8d48988d116941735', 'name': 'B...</td>\n",
       "      <td>v-1602906464</td>\n",
       "      <td>False</td>\n",
       "      <td>816 3rd Ave S</td>\n",
       "      <td>36.152179</td>\n",
       "      <td>-86.769912</td>\n",
       "      <td>[{'label': 'display', 'lat': 36.1521786574327,...</td>\n",
       "      <td>2487</td>\n",
       "      <td>...</td>\n",
       "      <td>[816 3rd Ave S (at Lindsley Ave.), Nashville, ...</td>\n",
       "      <td>NaN</td>\n",
       "      <td>NaN</td>\n",
       "      <td>NaN</td>\n",
       "      <td>NaN</td>\n",
       "      <td>NaN</td>\n",
       "      <td>NaN</td>\n",
       "      <td>at Lindsley Ave.</td>\n",
       "      <td>NaN</td>\n",
       "      <td>NaN</td>\n",
       "    </tr>\n",
       "    <tr>\n",
       "      <td>2</td>\n",
       "      <td>4c2a5387d1a10f478144f664</td>\n",
       "      <td>Belcourt Taps</td>\n",
       "      <td>[{'id': '4bf58dd8d48988d116941735', 'name': 'B...</td>\n",
       "      <td>v-1602906464</td>\n",
       "      <td>False</td>\n",
       "      <td>2117 Belcourt Ave</td>\n",
       "      <td>36.136625</td>\n",
       "      <td>-86.802382</td>\n",
       "      <td>[{'label': 'display', 'lat': 36.13662518832823...</td>\n",
       "      <td>5226</td>\n",
       "      <td>...</td>\n",
       "      <td>[2117 Belcourt Ave, Nashville, TN 37212, Unite...</td>\n",
       "      <td>1556846</td>\n",
       "      <td>https://www.grubhub.com/restaurant/belcourt-ta...</td>\n",
       "      <td>grubhub</td>\n",
       "      <td>https://fastly.4sqi.net/img/general/cap/</td>\n",
       "      <td>[40, 50]</td>\n",
       "      <td>/delivery_provider_grubhub_20180129.png</td>\n",
       "      <td>NaN</td>\n",
       "      <td>45398177</td>\n",
       "      <td>NaN</td>\n",
       "    </tr>\n",
       "    <tr>\n",
       "      <td>3</td>\n",
       "      <td>4b1c441cf964a5203a0524e3</td>\n",
       "      <td>Commodore Grille</td>\n",
       "      <td>[{'id': '4bf58dd8d48988d14e941735', 'name': 'A...</td>\n",
       "      <td>v-1602906464</td>\n",
       "      <td>False</td>\n",
       "      <td>2613 West End Ave</td>\n",
       "      <td>36.145022</td>\n",
       "      <td>-86.811139</td>\n",
       "      <td>[{'label': 'display', 'lat': 36.14502192586651...</td>\n",
       "      <td>5079</td>\n",
       "      <td>...</td>\n",
       "      <td>[2613 West End Ave (at Holiday Inn West End Ho...</td>\n",
       "      <td>NaN</td>\n",
       "      <td>NaN</td>\n",
       "      <td>NaN</td>\n",
       "      <td>NaN</td>\n",
       "      <td>NaN</td>\n",
       "      <td>NaN</td>\n",
       "      <td>at Holiday Inn West End Hotel</td>\n",
       "      <td>76721496</td>\n",
       "      <td>NaN</td>\n",
       "    </tr>\n",
       "    <tr>\n",
       "      <td>4</td>\n",
       "      <td>4b058669f964a520f36022e3</td>\n",
       "      <td>The Sutler</td>\n",
       "      <td>[{'id': '52e81612bcbc57f1066b7a00', 'name': 'C...</td>\n",
       "      <td>v-1602906464</td>\n",
       "      <td>False</td>\n",
       "      <td>2600 8th Ave S, Suite 109</td>\n",
       "      <td>36.121999</td>\n",
       "      <td>-86.775233</td>\n",
       "      <td>[{'label': 'display', 'lat': 36.12199872037557...</td>\n",
       "      <td>5876</td>\n",
       "      <td>...</td>\n",
       "      <td>[2600 8th Ave S, Suite 109, Nashville, TN 3720...</td>\n",
       "      <td>1917459</td>\n",
       "      <td>https://www.grubhub.com/restaurant/the-sutler-...</td>\n",
       "      <td>grubhub</td>\n",
       "      <td>https://fastly.4sqi.net/img/general/cap/</td>\n",
       "      <td>[40, 50]</td>\n",
       "      <td>/delivery_provider_grubhub_20180129.png</td>\n",
       "      <td>NaN</td>\n",
       "      <td>NaN</td>\n",
       "      <td>NaN</td>\n",
       "    </tr>\n",
       "  </tbody>\n",
       "</table>\n",
       "<p>5 rows × 25 columns</p>\n",
       "</div>"
      ],
      "text/plain": [
       "                         id                          name  \\\n",
       "0  5538733e498e339377d11a0f             The Basement East   \n",
       "1  4b058668f964a520cb6022e3  3rd & Lindsley Bar and Grill   \n",
       "2  4c2a5387d1a10f478144f664                 Belcourt Taps   \n",
       "3  4b1c441cf964a5203a0524e3              Commodore Grille   \n",
       "4  4b058669f964a520f36022e3                    The Sutler   \n",
       "\n",
       "                                          categories    referralId  hasPerk  \\\n",
       "0  [{'id': '4bf58dd8d48988d1e9931735', 'name': 'R...  v-1602906464    False   \n",
       "1  [{'id': '4bf58dd8d48988d116941735', 'name': 'B...  v-1602906464    False   \n",
       "2  [{'id': '4bf58dd8d48988d116941735', 'name': 'B...  v-1602906464    False   \n",
       "3  [{'id': '4bf58dd8d48988d14e941735', 'name': 'A...  v-1602906464    False   \n",
       "4  [{'id': '52e81612bcbc57f1066b7a00', 'name': 'C...  v-1602906464    False   \n",
       "\n",
       "            location.address  location.lat  location.lng  \\\n",
       "0            917 Woodland St     36.175629    -86.755681   \n",
       "1              816 3rd Ave S     36.152179    -86.769912   \n",
       "2          2117 Belcourt Ave     36.136625    -86.802382   \n",
       "3          2613 West End Ave     36.145022    -86.811139   \n",
       "4  2600 8th Ave S, Suite 109     36.121999    -86.775233   \n",
       "\n",
       "                             location.labeledLatLngs  location.distance  ...  \\\n",
       "0  [{'label': 'display', 'lat': 36.17562944628696...               1110  ...   \n",
       "1  [{'label': 'display', 'lat': 36.1521786574327,...               2487  ...   \n",
       "2  [{'label': 'display', 'lat': 36.13662518832823...               5226  ...   \n",
       "3  [{'label': 'display', 'lat': 36.14502192586651...               5079  ...   \n",
       "4  [{'label': 'display', 'lat': 36.12199872037557...               5876  ...   \n",
       "\n",
       "                           location.formattedAddress delivery.id  \\\n",
       "0  [917 Woodland St, Nashville, TN 37206, United ...     2249008   \n",
       "1  [816 3rd Ave S (at Lindsley Ave.), Nashville, ...         NaN   \n",
       "2  [2117 Belcourt Ave, Nashville, TN 37212, Unite...     1556846   \n",
       "3  [2613 West End Ave (at Holiday Inn West End Ho...         NaN   \n",
       "4  [2600 8th Ave S, Suite 109, Nashville, TN 3720...     1917459   \n",
       "\n",
       "                                        delivery.url delivery.provider.name  \\\n",
       "0  https://www.grubhub.com/restaurant/the-pub-at-...                grubhub   \n",
       "1                                                NaN                    NaN   \n",
       "2  https://www.grubhub.com/restaurant/belcourt-ta...                grubhub   \n",
       "3                                                NaN                    NaN   \n",
       "4  https://www.grubhub.com/restaurant/the-sutler-...                grubhub   \n",
       "\n",
       "              delivery.provider.icon.prefix delivery.provider.icon.sizes  \\\n",
       "0  https://fastly.4sqi.net/img/general/cap/                     [40, 50]   \n",
       "1                                       NaN                          NaN   \n",
       "2  https://fastly.4sqi.net/img/general/cap/                     [40, 50]   \n",
       "3                                       NaN                          NaN   \n",
       "4  https://fastly.4sqi.net/img/general/cap/                     [40, 50]   \n",
       "\n",
       "               delivery.provider.icon.name           location.crossStreet  \\\n",
       "0  /delivery_provider_grubhub_20180129.png                            NaN   \n",
       "1                                      NaN               at Lindsley Ave.   \n",
       "2  /delivery_provider_grubhub_20180129.png                            NaN   \n",
       "3                                      NaN  at Holiday Inn West End Hotel   \n",
       "4  /delivery_provider_grubhub_20180129.png                            NaN   \n",
       "\n",
       "  venuePage.id location.neighborhood  \n",
       "0          NaN                   NaN  \n",
       "1          NaN                   NaN  \n",
       "2     45398177                   NaN  \n",
       "3     76721496                   NaN  \n",
       "4          NaN                   NaN  \n",
       "\n",
       "[5 rows x 25 columns]"
      ]
     },
     "execution_count": 42,
     "metadata": {},
     "output_type": "execute_result"
    }
   ],
   "source": [
    "# assign relevant part of JSON to venues\n",
    "venues = results['response']['venues']\n",
    "\n",
    "# tranform venues into a dataframe\n",
    "dataframe = json_normalize(venues)\n",
    "dataframe.head()"
   ]
  },
  {
   "cell_type": "code",
   "execution_count": 43,
   "metadata": {},
   "outputs": [
    {
     "data": {
      "text/plain": [
       "(50, 25)"
      ]
     },
     "execution_count": 43,
     "metadata": {},
     "output_type": "execute_result"
    }
   ],
   "source": [
    "dataframe.shape"
   ]
  },
  {
   "cell_type": "markdown",
   "metadata": {},
   "source": [
    "### Then we clean up the dataframe..."
   ]
  },
  {
   "cell_type": "code",
   "execution_count": 44,
   "metadata": {},
   "outputs": [
    {
     "data": {
      "text/html": [
       "<div>\n",
       "<style scoped>\n",
       "    .dataframe tbody tr th:only-of-type {\n",
       "        vertical-align: middle;\n",
       "    }\n",
       "\n",
       "    .dataframe tbody tr th {\n",
       "        vertical-align: top;\n",
       "    }\n",
       "\n",
       "    .dataframe thead th {\n",
       "        text-align: right;\n",
       "    }\n",
       "</style>\n",
       "<table border=\"1\" class=\"dataframe\">\n",
       "  <thead>\n",
       "    <tr style=\"text-align: right;\">\n",
       "      <th></th>\n",
       "      <th>name</th>\n",
       "      <th>categories</th>\n",
       "      <th>address</th>\n",
       "      <th>lat</th>\n",
       "      <th>lng</th>\n",
       "      <th>labeledLatLngs</th>\n",
       "      <th>distance</th>\n",
       "      <th>postalCode</th>\n",
       "      <th>cc</th>\n",
       "      <th>city</th>\n",
       "      <th>state</th>\n",
       "      <th>country</th>\n",
       "      <th>formattedAddress</th>\n",
       "      <th>crossStreet</th>\n",
       "      <th>neighborhood</th>\n",
       "      <th>id</th>\n",
       "    </tr>\n",
       "  </thead>\n",
       "  <tbody>\n",
       "    <tr>\n",
       "      <td>0</td>\n",
       "      <td>The Basement East</td>\n",
       "      <td>Rock Club</td>\n",
       "      <td>917 Woodland St</td>\n",
       "      <td>36.175629</td>\n",
       "      <td>-86.755681</td>\n",
       "      <td>[{'label': 'display', 'lat': 36.17562944628696...</td>\n",
       "      <td>1110</td>\n",
       "      <td>37206</td>\n",
       "      <td>US</td>\n",
       "      <td>Nashville</td>\n",
       "      <td>TN</td>\n",
       "      <td>United States</td>\n",
       "      <td>[917 Woodland St, Nashville, TN 37206, United ...</td>\n",
       "      <td>NaN</td>\n",
       "      <td>NaN</td>\n",
       "      <td>5538733e498e339377d11a0f</td>\n",
       "    </tr>\n",
       "    <tr>\n",
       "      <td>1</td>\n",
       "      <td>3rd &amp; Lindsley Bar and Grill</td>\n",
       "      <td>Bar</td>\n",
       "      <td>816 3rd Ave S</td>\n",
       "      <td>36.152179</td>\n",
       "      <td>-86.769912</td>\n",
       "      <td>[{'label': 'display', 'lat': 36.1521786574327,...</td>\n",
       "      <td>2487</td>\n",
       "      <td>37210</td>\n",
       "      <td>US</td>\n",
       "      <td>Nashville</td>\n",
       "      <td>TN</td>\n",
       "      <td>United States</td>\n",
       "      <td>[816 3rd Ave S (at Lindsley Ave.), Nashville, ...</td>\n",
       "      <td>at Lindsley Ave.</td>\n",
       "      <td>NaN</td>\n",
       "      <td>4b058668f964a520cb6022e3</td>\n",
       "    </tr>\n",
       "    <tr>\n",
       "      <td>2</td>\n",
       "      <td>Belcourt Taps</td>\n",
       "      <td>Bar</td>\n",
       "      <td>2117 Belcourt Ave</td>\n",
       "      <td>36.136625</td>\n",
       "      <td>-86.802382</td>\n",
       "      <td>[{'label': 'display', 'lat': 36.13662518832823...</td>\n",
       "      <td>5226</td>\n",
       "      <td>37212</td>\n",
       "      <td>US</td>\n",
       "      <td>Nashville</td>\n",
       "      <td>TN</td>\n",
       "      <td>United States</td>\n",
       "      <td>[2117 Belcourt Ave, Nashville, TN 37212, Unite...</td>\n",
       "      <td>NaN</td>\n",
       "      <td>NaN</td>\n",
       "      <td>4c2a5387d1a10f478144f664</td>\n",
       "    </tr>\n",
       "    <tr>\n",
       "      <td>3</td>\n",
       "      <td>Commodore Grille</td>\n",
       "      <td>American Restaurant</td>\n",
       "      <td>2613 West End Ave</td>\n",
       "      <td>36.145022</td>\n",
       "      <td>-86.811139</td>\n",
       "      <td>[{'label': 'display', 'lat': 36.14502192586651...</td>\n",
       "      <td>5079</td>\n",
       "      <td>37203</td>\n",
       "      <td>US</td>\n",
       "      <td>Nashville</td>\n",
       "      <td>TN</td>\n",
       "      <td>United States</td>\n",
       "      <td>[2613 West End Ave (at Holiday Inn West End Ho...</td>\n",
       "      <td>at Holiday Inn West End Hotel</td>\n",
       "      <td>NaN</td>\n",
       "      <td>4b1c441cf964a5203a0524e3</td>\n",
       "    </tr>\n",
       "    <tr>\n",
       "      <td>4</td>\n",
       "      <td>The Sutler</td>\n",
       "      <td>Comfort Food Restaurant</td>\n",
       "      <td>2600 8th Ave S, Suite 109</td>\n",
       "      <td>36.121999</td>\n",
       "      <td>-86.775233</td>\n",
       "      <td>[{'label': 'display', 'lat': 36.12199872037557...</td>\n",
       "      <td>5876</td>\n",
       "      <td>37204</td>\n",
       "      <td>US</td>\n",
       "      <td>Nashville</td>\n",
       "      <td>TN</td>\n",
       "      <td>United States</td>\n",
       "      <td>[2600 8th Ave S, Suite 109, Nashville, TN 3720...</td>\n",
       "      <td>NaN</td>\n",
       "      <td>NaN</td>\n",
       "      <td>4b058669f964a520f36022e3</td>\n",
       "    </tr>\n",
       "  </tbody>\n",
       "</table>\n",
       "</div>"
      ],
      "text/plain": [
       "                           name               categories  \\\n",
       "0             The Basement East                Rock Club   \n",
       "1  3rd & Lindsley Bar and Grill                      Bar   \n",
       "2                 Belcourt Taps                      Bar   \n",
       "3              Commodore Grille      American Restaurant   \n",
       "4                    The Sutler  Comfort Food Restaurant   \n",
       "\n",
       "                     address        lat        lng  \\\n",
       "0            917 Woodland St  36.175629 -86.755681   \n",
       "1              816 3rd Ave S  36.152179 -86.769912   \n",
       "2          2117 Belcourt Ave  36.136625 -86.802382   \n",
       "3          2613 West End Ave  36.145022 -86.811139   \n",
       "4  2600 8th Ave S, Suite 109  36.121999 -86.775233   \n",
       "\n",
       "                                      labeledLatLngs  distance postalCode  cc  \\\n",
       "0  [{'label': 'display', 'lat': 36.17562944628696...      1110      37206  US   \n",
       "1  [{'label': 'display', 'lat': 36.1521786574327,...      2487      37210  US   \n",
       "2  [{'label': 'display', 'lat': 36.13662518832823...      5226      37212  US   \n",
       "3  [{'label': 'display', 'lat': 36.14502192586651...      5079      37203  US   \n",
       "4  [{'label': 'display', 'lat': 36.12199872037557...      5876      37204  US   \n",
       "\n",
       "        city state        country  \\\n",
       "0  Nashville    TN  United States   \n",
       "1  Nashville    TN  United States   \n",
       "2  Nashville    TN  United States   \n",
       "3  Nashville    TN  United States   \n",
       "4  Nashville    TN  United States   \n",
       "\n",
       "                                    formattedAddress  \\\n",
       "0  [917 Woodland St, Nashville, TN 37206, United ...   \n",
       "1  [816 3rd Ave S (at Lindsley Ave.), Nashville, ...   \n",
       "2  [2117 Belcourt Ave, Nashville, TN 37212, Unite...   \n",
       "3  [2613 West End Ave (at Holiday Inn West End Ho...   \n",
       "4  [2600 8th Ave S, Suite 109, Nashville, TN 3720...   \n",
       "\n",
       "                     crossStreet neighborhood                        id  \n",
       "0                            NaN          NaN  5538733e498e339377d11a0f  \n",
       "1               at Lindsley Ave.          NaN  4b058668f964a520cb6022e3  \n",
       "2                            NaN          NaN  4c2a5387d1a10f478144f664  \n",
       "3  at Holiday Inn West End Hotel          NaN  4b1c441cf964a5203a0524e3  \n",
       "4                            NaN          NaN  4b058669f964a520f36022e3  "
      ]
     },
     "execution_count": 44,
     "metadata": {},
     "output_type": "execute_result"
    }
   ],
   "source": [
    "# keep only columns that include venue name, and anything that is associated with location\n",
    "filtered_columns = ['name', 'categories'] + [col for col in dataframe.columns if col.startswith('location.')] + ['id']\n",
    "dataframe_filtered = dataframe.loc[:, filtered_columns]\n",
    "\n",
    "# function that extracts the category of the venue\n",
    "def get_category_type(row):\n",
    "    try:\n",
    "        categories_list = row['categories']\n",
    "    except:\n",
    "        categories_list = row['venue.categories']\n",
    "        \n",
    "    if len(categories_list) == 0:\n",
    "        return None\n",
    "    else:\n",
    "        return categories_list[0]['name']\n",
    "\n",
    "# filter the category for each row\n",
    "dataframe_filtered['categories'] = dataframe_filtered.apply(get_category_type, axis=1)\n",
    "\n",
    "# clean column names by keeping only last term\n",
    "dataframe_filtered.columns = [column.split('.')[-1] for column in dataframe_filtered.columns]\n",
    "\n",
    "dataframe_filtered.head(5)"
   ]
  },
  {
   "cell_type": "markdown",
   "metadata": {},
   "source": [
    "### And finally we are ready to plot the venue locations on a map of the city using the latitude and longitude coordinates for each venue."
   ]
  },
  {
   "cell_type": "code",
   "execution_count": 45,
   "metadata": {},
   "outputs": [
    {
     "data": {
      "text/html": [
       "<div style=\"width:100%;\"><div style=\"position:relative;width:100%;height:0;padding-bottom:60%;\"><span style=\"color:#565656\">Make this Notebook Trusted to load map: File -> Trust Notebook</span><iframe src=\"about:blank\" style=\"position:absolute;width:100%;height:100%;left:0;top:0;border:none !important;\" data-html=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 onload=\"this.contentDocument.open();this.contentDocument.write(atob(this.getAttribute('data-html')));this.contentDocument.close();\" allowfullscreen webkitallowfullscreen mozallowfullscreen></iframe></div></div>"
      ],
      "text/plain": [
       "<folium.folium.Map at 0x1e9f970bec8>"
      ]
     },
     "execution_count": 45,
     "metadata": {},
     "output_type": "execute_result"
    }
   ],
   "source": [
    "venues_map = folium.Map(location=[latitude, longitude], zoom_start=12) # generate map centred around the Conrad Hotel\n",
    "\n",
    "# add a red circle marker to represent the Conrad Hotel\n",
    "folium.CircleMarker(\n",
    "    [latitude, longitude],\n",
    "    radius=10,\n",
    "    color='red',\n",
    "    popup='Conrad Hotel',\n",
    "    fill = True,\n",
    "    fill_color = 'red',\n",
    "    fill_opacity = 0.6\n",
    ").add_to(venues_map)\n",
    "\n",
    "# add the Italian restaurants as blue circle markers\n",
    "for lat, lng, label in zip(dataframe_filtered.lat, dataframe_filtered.lng, dataframe_filtered.categories):\n",
    "    folium.CircleMarker(\n",
    "        [lat, lng],\n",
    "        radius=5,\n",
    "        color='blue',\n",
    "        popup=label,\n",
    "        fill = True,\n",
    "        fill_color='blue',\n",
    "        fill_opacity=0.6\n",
    "    ).add_to(venues_map)\n",
    "\n",
    "# display map\n",
    "venues_map"
   ]
  },
  {
   "cell_type": "markdown",
   "metadata": {},
   "source": [
    "### We can also use the location data of each venue to identify hot-spots, where multiple music venues are located in small areas.\n",
    "### We will use DBSCAN clustering to identify clusters of music venues based on the density of the coordinates."
   ]
  },
  {
   "cell_type": "code",
   "execution_count": 46,
   "metadata": {},
   "outputs": [],
   "source": [
    "from sklearn.cluster import DBSCAN \n",
    "from sklearn.datasets.samples_generator import make_blobs \n",
    "from collections import Counter\n",
    "from sklearn.preprocessing import StandardScaler \n",
    "import matplotlib.pyplot as plt \n",
    "from pylab import rcParams\n",
    "rcParams['figure.figsize'] = 14, 6\n",
    "%matplotlib inline"
   ]
  },
  {
   "cell_type": "code",
   "execution_count": 47,
   "metadata": {},
   "outputs": [
    {
     "data": {
      "image/png": "[encoded data removed]",
      "text/plain": [
       "<Figure size 432x288 with 1 Axes>"
      ]
     },
     "metadata": {
      "needs_background": "light"
     },
     "output_type": "display_data"
    }
   ],
   "source": [
    "_ = plt.plot(dataframe_filtered['lng'], dataframe_filtered['lat'],\n",
    "            marker='.', linewidth=0, color='#128128')\n",
    "_ = plt.grid(which='major', color='#cccccc', alpha=0.45)\n",
    "_ = plt.title('Geographical Distribution of Music Venues', family='Arial', fontsize=12)\n",
    "_ = plt.xlabel ('lng')\n",
    "_ = plt.ylabel ('lat')\n",
    "_ = plt.show()"
   ]
  },
  {
   "cell_type": "code",
   "execution_count": 48,
   "metadata": {},
   "outputs": [
    {
     "data": {
      "text/plain": [
       "array([[-86.755684,  36.17563 ],\n",
       "       [-86.76991 ,  36.15218 ],\n",
       "       [-86.80238 ,  36.136623],\n",
       "       [-86.81114 ,  36.145023],\n",
       "       [-86.77523 ,  36.121998],\n",
       "       [-86.79454 ,  36.147175],\n",
       "       [-86.81233 ,  36.14638 ],\n",
       "       [-86.77881 ,  36.149452],\n",
       "       [-86.7775  ,  36.160763],\n",
       "       [-86.778114,  36.1609  ],\n",
       "       [-86.81261 ,  36.145916],\n",
       "       [-86.778915,  36.131855],\n",
       "       [-86.78012 ,  36.152874],\n",
       "       [-86.81296 ,  36.14995 ],\n",
       "       [-86.75037 ,  36.178486],\n",
       "       [-86.776825,  36.160835],\n",
       "       [-86.778015,  36.160873],\n",
       "       [-86.78046 ,  36.15306 ],\n",
       "       [-86.797165,  36.164024],\n",
       "       [-86.77773 ,  36.160843],\n",
       "       [-86.77608 ,  36.161674],\n",
       "       [-86.77224 ,  36.153763],\n",
       "       [-86.78352 ,  36.152805],\n",
       "       [-86.79297 ,  36.15008 ],\n",
       "       [-86.77862 ,  36.13704 ],\n",
       "       [-86.80177 ,  36.180744],\n",
       "       [-86.77592 ,  36.163486],\n",
       "       [-86.778786,  36.164524],\n",
       "       [-86.77333 ,  36.15429 ],\n",
       "       [-86.77158 ,  36.154068],\n",
       "       [-86.77892 ,  36.155483],\n",
       "       [-86.74243 ,  36.17008 ],\n",
       "       [-86.79486 ,  36.150852],\n",
       "       [-86.79575 ,  36.148266],\n",
       "       [-86.75196 ,  36.201153],\n",
       "       [-86.803856,  36.151073],\n",
       "       [-86.80957 ,  36.14743 ],\n",
       "       [-86.774345,  36.161896],\n",
       "       [-86.771835,  36.159515],\n",
       "       [-86.7786  ,  36.161373],\n",
       "       [-86.778366,  36.15911 ],\n",
       "       [-86.778435,  36.167522],\n",
       "       [-86.7783  ,  36.160866],\n",
       "       [-86.78312 ,  36.16385 ],\n",
       "       [-86.77566 ,  36.161755],\n",
       "       [-86.77845 ,  36.166576],\n",
       "       [-86.77988 ,  36.16148 ],\n",
       "       [-86.778564,  36.160694],\n",
       "       [-86.79634 ,  36.150032],\n",
       "       [-86.77459 ,  36.163204]], dtype=float32)"
      ]
     },
     "execution_count": 48,
     "metadata": {},
     "output_type": "execute_result"
    }
   ],
   "source": [
    "dbscan_data = dataframe_filtered[['lng','lat']]\n",
    "dbscan_data = dbscan_data.values.astype('float32', copy=False)\n",
    "dbscan_data"
   ]
  },
  {
   "cell_type": "code",
   "execution_count": 49,
   "metadata": {},
   "outputs": [
    {
     "data": {
      "text/plain": [
       "array([[ 1.7128589 ,  1.4882165 ],\n",
       "       [ 0.7933454 , -0.38413134],\n",
       "       [-1.3050189 , -1.6262714 ],\n",
       "       [-1.871025  , -0.95555234],\n",
       "       [ 0.44969878, -2.79409   ],\n",
       "       [-0.7981772 , -0.78376055],\n",
       "       [-1.9479388 , -0.84711635],\n",
       "       [ 0.21846457, -0.601917  ],\n",
       "       [ 0.30326688,  0.3012083 ],\n",
       "       [ 0.2633309 ,  0.31217372],\n",
       "       [-1.9656881 , -0.884277  ],\n",
       "       [ 0.21156207, -2.0070157 ],\n",
       "       [ 0.13366225, -0.32869497],\n",
       "       [-1.9883678 , -0.56231964],\n",
       "       [ 2.0565054 ,  1.7163584 ],\n",
       "       [ 0.34665412,  0.3069956 ],\n",
       "       [ 0.26974037,  0.31004155],\n",
       "       [ 0.11196864, -0.31376982],\n",
       "       [-0.9677818 ,  0.56163734],\n",
       "       [ 0.28798273,  0.3076048 ],\n",
       "       [ 0.3949717 ,  0.3740066 ],\n",
       "       [ 0.6429692 , -0.25772426],\n",
       "       [-0.08623212, -0.3341777 ],\n",
       "       [-0.6966116 , -0.5516588 ],\n",
       "       [ 0.2307905 , -1.5930705 ],\n",
       "       [-1.2655759 ,  1.8966789 ],\n",
       "       [ 0.40532547,  0.5186894 ],\n",
       "       [ 0.21994369,  0.6015394 ],\n",
       "       [ 0.57246494, -0.21569009],\n",
       "       [ 0.6853703 , -0.23335662],\n",
       "       [ 0.21106902, -0.12035173],\n",
       "       [ 2.5692637 ,  1.0450302 ],\n",
       "       [-0.81888473, -0.49013054],\n",
       "       [-0.87657   , -0.6966463 ],\n",
       "       [ 1.9534608 ,  3.5262642 ],\n",
       "       [-1.400175  , -0.472464  ],\n",
       "       [-1.7694595 , -0.76335263],\n",
       "       [ 0.5068911 ,  0.39167312],\n",
       "       [ 0.6691001 ,  0.2016056 ],\n",
       "       [ 0.23177657,  0.34994355],\n",
       "       [ 0.2470607 ,  0.16931848],\n",
       "       [ 0.24262337,  0.84095126],\n",
       "       [ 0.25149804,  0.30943236],\n",
       "       [-0.06010118,  0.54762596],\n",
       "       [ 0.4220887 ,  0.3804031 ],\n",
       "       [ 0.2416373 ,  0.7654116 ],\n",
       "       [ 0.14943944,  0.35847223],\n",
       "       [ 0.23424175,  0.29572558],\n",
       "       [-0.91453385, -0.5556185 ],\n",
       "       [ 0.49111387,  0.49614933]], dtype=float32)"
      ]
     },
     "execution_count": 49,
     "metadata": {},
     "output_type": "execute_result"
    }
   ],
   "source": [
    "dbscan_data_scaler = StandardScaler().fit(dbscan_data)\n",
    "dbscan_data = dbscan_data_scaler.transform(dbscan_data)\n",
    "dbscan_data"
   ]
  },
  {
   "cell_type": "code",
   "execution_count": 50,
   "metadata": {},
   "outputs": [
    {
     "data": {
      "text/plain": [
       "DBSCAN(algorithm='auto', eps=0.25, leaf_size=30, metric='euclidean',\n",
       "       metric_params=None, min_samples=4, n_jobs=None, p=None)"
      ]
     },
     "execution_count": 50,
     "metadata": {},
     "output_type": "execute_result"
    }
   ],
   "source": [
    "model = DBSCAN(eps = 0.25, min_samples = 4, metric='euclidean').\\\n",
    "    fit(dbscan_data)\n",
    "model"
   ]
  },
  {
   "cell_type": "code",
   "execution_count": 51,
   "metadata": {},
   "outputs": [
    {
     "name": "stdout",
     "output_type": "stream",
     "text": [
      "Counter({1: 19, -1: 14, 4: 5, 3: 4, 0: 4, 2: 4})\n",
      "                   name               categories                    address  \\\n",
      "0     The Basement East                Rock Club            917 Woodland St   \n",
      "2         Belcourt Taps                      Bar          2117 Belcourt Ave   \n",
      "4            The Sutler  Comfort Food Restaurant  2600 8th Ave S, Suite 109   \n",
      "7        Fat Kat Slim’s                    Diner              730 8th Ave S   \n",
      "11  Douglas Corner Cafe                 Dive Bar             2106 8th Ave S   \n",
      "\n",
      "          lat        lng                                     labeledLatLngs  \\\n",
      "0   36.175629 -86.755681  [{'label': 'display', 'lat': 36.17562944628696...   \n",
      "2   36.136625 -86.802382  [{'label': 'display', 'lat': 36.13662518832823...   \n",
      "4   36.121999 -86.775233  [{'label': 'display', 'lat': 36.12199872037557...   \n",
      "7   36.149453 -86.778806  [{'label': 'display', 'lat': 36.14945303273163...   \n",
      "11  36.131855 -86.778916  [{'label': 'display', 'lat': 36.13185462252452...   \n",
      "\n",
      "    distance postalCode  cc       city state        country  \\\n",
      "0       1110      37206  US  Nashville    TN  United States   \n",
      "2       5226      37212  US  Nashville    TN  United States   \n",
      "4       5876      37204  US  Nashville    TN  United States   \n",
      "7       2949      37203  US  Nashville    TN  United States   \n",
      "11      4844      37204  US  Nashville    TN  United States   \n",
      "\n",
      "                                     formattedAddress      crossStreet  \\\n",
      "0   [917 Woodland St, Nashville, TN 37206, United ...              NaN   \n",
      "2   [2117 Belcourt Ave, Nashville, TN 37212, Unite...              NaN   \n",
      "4   [2600 8th Ave S, Suite 109, Nashville, TN 3720...              NaN   \n",
      "7   [730 8th Ave S (Division Street), Nashville, T...  Division Street   \n",
      "11  [2106 8th Ave S, Nashville, TN 37204, United S...              NaN   \n",
      "\n",
      "            neighborhood                        id  \n",
      "0                    NaN  5538733e498e339377d11a0f  \n",
      "2                    NaN  4c2a5387d1a10f478144f664  \n",
      "4                    NaN  4b058669f964a520f36022e3  \n",
      "7   SoBro, Nashville, TN  5dbaf91c212f1d0008e5459b  \n",
      "11                   NaN  4b05866af964a520326122e3  \n",
      "Number of clusters = 5\n"
     ]
    }
   ],
   "source": [
    "outliers_df = dataframe_filtered[model.labels_ == -1]\n",
    "clusters_df = dataframe_filtered[model.labels_ != -1]\n",
    "colors = model.labels_\n",
    "colors_clusters = colors[colors != -1]\n",
    "color_outliers = 'black'\n",
    "clusters = Counter(model.labels_)\n",
    "print(clusters)\n",
    "print(dataframe_filtered[model.labels_ == -1].head())\n",
    "print('Number of clusters = {}'.format(len(clusters)-1))"
   ]
  },
  {
   "cell_type": "code",
   "execution_count": 52,
   "metadata": {},
   "outputs": [
    {
     "data": {
      "image/png": "[encoded data removed]",
      "text/plain": [
       "<Figure size 432x288 with 1 Axes>"
      ]
     },
     "metadata": {
      "needs_background": "light"
     },
     "output_type": "display_data"
    }
   ],
   "source": [
    "fig = plt.figure()\n",
    "ax = fig.add_axes([.1, .1, 1, 1])\n",
    "ax.scatter(clusters_df['lng'], clusters_df['lat'],\n",
    "          c = colors_clusters, edgecolors='black', s=50)\n",
    "ax.scatter(outliers_df['lng'], outliers_df['lat'],\n",
    "          c = color_outliers, edgecolors='white', s=40)\n",
    "ax.set_xlabel('lng', family='Arial', fontsize=9)\n",
    "ax.set_ylabel('lat', family='Arial', fontsize=9)\n",
    "plt.title('Clustered Music Venues by DBSCAN', family='Arial', fontsize=12)\n",
    "plt.grid(which='major', color='#cccccc', alpha=0.45)\n",
    "plt.show()"
   ]
  },
  {
   "cell_type": "markdown",
   "metadata": {},
   "source": [
    "### Now that we've identified 5 music venue clusters, or hot-spots in Nashville, lets explore the different clusters and see what we can learn."
   ]
  },
  {
   "cell_type": "code",
   "execution_count": 62,
   "metadata": {},
   "outputs": [
    {
     "data": {
      "text/html": [
       "<div>\n",
       "<style scoped>\n",
       "    .dataframe tbody tr th:only-of-type {\n",
       "        vertical-align: middle;\n",
       "    }\n",
       "\n",
       "    .dataframe tbody tr th {\n",
       "        vertical-align: top;\n",
       "    }\n",
       "\n",
       "    .dataframe thead th {\n",
       "        text-align: right;\n",
       "    }\n",
       "</style>\n",
       "<table border=\"1\" class=\"dataframe\">\n",
       "  <thead>\n",
       "    <tr style=\"text-align: right;\">\n",
       "      <th></th>\n",
       "      <th>name</th>\n",
       "      <th>categories</th>\n",
       "      <th>cluster</th>\n",
       "    </tr>\n",
       "  </thead>\n",
       "  <tbody>\n",
       "    <tr>\n",
       "      <td>1</td>\n",
       "      <td>3rd &amp; Lindsley Bar and Grill</td>\n",
       "      <td>Bar</td>\n",
       "      <td>3</td>\n",
       "    </tr>\n",
       "    <tr>\n",
       "      <td>3</td>\n",
       "      <td>Commodore Grille</td>\n",
       "      <td>American Restaurant</td>\n",
       "      <td>0</td>\n",
       "    </tr>\n",
       "    <tr>\n",
       "      <td>5</td>\n",
       "      <td>Music Row</td>\n",
       "      <td>Music Venue</td>\n",
       "      <td>4</td>\n",
       "    </tr>\n",
       "    <tr>\n",
       "      <td>6</td>\n",
       "      <td>Springwater Supper Club &amp; Lounge</td>\n",
       "      <td>Dive Bar</td>\n",
       "      <td>0</td>\n",
       "    </tr>\n",
       "    <tr>\n",
       "      <td>8</td>\n",
       "      <td>Nudie's Honky Tonk</td>\n",
       "      <td>Bar</td>\n",
       "      <td>1</td>\n",
       "    </tr>\n",
       "    <tr>\n",
       "      <td>9</td>\n",
       "      <td>Layla's</td>\n",
       "      <td>Bar</td>\n",
       "      <td>1</td>\n",
       "    </tr>\n",
       "    <tr>\n",
       "      <td>10</td>\n",
       "      <td>The Local</td>\n",
       "      <td>Bar</td>\n",
       "      <td>0</td>\n",
       "    </tr>\n",
       "    <tr>\n",
       "      <td>12</td>\n",
       "      <td>The Cannery Ballroom</td>\n",
       "      <td>Music Venue</td>\n",
       "      <td>2</td>\n",
       "    </tr>\n",
       "    <tr>\n",
       "      <td>15</td>\n",
       "      <td>Honky Tonk Central</td>\n",
       "      <td>Bar</td>\n",
       "      <td>1</td>\n",
       "    </tr>\n",
       "    <tr>\n",
       "      <td>16</td>\n",
       "      <td>Robert's Western World</td>\n",
       "      <td>Bar</td>\n",
       "      <td>1</td>\n",
       "    </tr>\n",
       "  </tbody>\n",
       "</table>\n",
       "</div>"
      ],
      "text/plain": [
       "                                name           categories  cluster\n",
       "1       3rd & Lindsley Bar and Grill                  Bar        3\n",
       "3                   Commodore Grille  American Restaurant        0\n",
       "5                          Music Row          Music Venue        4\n",
       "6   Springwater Supper Club & Lounge             Dive Bar        0\n",
       "8                 Nudie's Honky Tonk                  Bar        1\n",
       "9                            Layla's                  Bar        1\n",
       "10                         The Local                  Bar        0\n",
       "12              The Cannery Ballroom          Music Venue        2\n",
       "15                Honky Tonk Central                  Bar        1\n",
       "16            Robert's Western World                  Bar        1"
      ]
     },
     "execution_count": 62,
     "metadata": {},
     "output_type": "execute_result"
    }
   ],
   "source": [
    "dataframe_filtered['cluster']=model.labels_\n",
    "cluster_data=dataframe_filtered[['name','categories','cluster']]\n",
    "cluster_data=cluster_data[cluster_data.cluster != -1]\n",
    "cluster_data.head(10)"
   ]
  },
  {
   "cell_type": "code",
   "execution_count": 54,
   "metadata": {},
   "outputs": [
    {
     "data": {
      "text/plain": [
       "1    19\n",
       "4     5\n",
       "3     4\n",
       "2     4\n",
       "0     4\n",
       "Name: cluster, dtype: int64"
      ]
     },
     "execution_count": 54,
     "metadata": {},
     "output_type": "execute_result"
    }
   ],
   "source": [
    "cluster_data['cluster'].value_counts()"
   ]
  },
  {
   "cell_type": "code",
   "execution_count": 71,
   "metadata": {},
   "outputs": [
    {
     "data": {
      "image/png": "[encoded data removed]",
      "text/plain": [
       "<Figure size 720x432 with 1 Axes>"
      ]
     },
     "metadata": {
      "needs_background": "light"
     },
     "output_type": "display_data"
    }
   ],
   "source": [
    "df_cluster1=cluster_data[cluster_data.cluster == 1]\n",
    "df_cluster1=df_cluster1['categories'].value_counts()\n",
    "\n",
    "df_cluster1.plot(kind='bar', figsize=(10, 6))\n",
    "\n",
    "plt.xlabel('subcategory') # add to x-label to the plot\n",
    "plt.ylabel('count') # add y-label to the plot\n",
    "plt.title('Breakdown of Music Venue Subcategories for Cluster 1') # add title to the plot\n",
    "\n",
    "plt.show()"
   ]
  },
  {
   "cell_type": "code",
   "execution_count": 72,
   "metadata": {},
   "outputs": [
    {
     "data": {
      "image/png": "[encoded data removed]",
      "text/plain": [
       "<Figure size 720x432 with 1 Axes>"
      ]
     },
     "metadata": {
      "needs_background": "light"
     },
     "output_type": "display_data"
    }
   ],
   "source": [
    "df_cluster3=cluster_data[cluster_data.cluster == 3]\n",
    "df_cluster3=df_cluster3['categories'].value_counts()\n",
    "\n",
    "df_cluster3.plot(kind='bar', figsize=(10, 6))\n",
    "\n",
    "plt.xlabel('subcategory') # add to x-label to the plot\n",
    "plt.ylabel('count') # add y-label to the plot\n",
    "plt.title('Breakdown of Music Venue Subcategories for Cluster 3') # add title to the plot\n",
    "\n",
    "plt.show()"
   ]
  },
  {
   "cell_type": "code",
   "execution_count": 73,
   "metadata": {},
   "outputs": [
    {
     "data": {
      "image/png": "[encoded data removed]",
      "text/plain": [
       "<Figure size 720x432 with 1 Axes>"
      ]
     },
     "metadata": {
      "needs_background": "light"
     },
     "output_type": "display_data"
    }
   ],
   "source": [
    "df_cluster4=cluster_data[cluster_data.cluster == 4]\n",
    "df_cluster4=df_cluster4['categories'].value_counts()\n",
    "\n",
    "df_cluster4.plot(kind='bar', figsize=(10, 6))\n",
    "\n",
    "plt.xlabel('subcategory') # add to x-label to the plot\n",
    "plt.ylabel('count') # add y-label to the plot\n",
    "plt.title('Breakdown of Music Venue Subcategories for Cluster 4') # add title to the plot\n",
    "\n",
    "plt.show()"
   ]
  },
  {
   "cell_type": "code",
   "execution_count": 74,
   "metadata": {},
   "outputs": [
    {
     "data": {
      "image/png": "[encoded data removed]",
      "text/plain": [
       "<Figure size 720x432 with 1 Axes>"
      ]
     },
     "metadata": {
      "needs_background": "light"
     },
     "output_type": "display_data"
    }
   ],
   "source": [
    "df_cluster2=cluster_data[cluster_data.cluster == 2]\n",
    "df_cluster2=df_cluster2['categories'].value_counts()\n",
    "\n",
    "df_cluster2.plot(kind='bar', figsize=(10, 6))\n",
    "\n",
    "plt.xlabel('subcategory') # add to x-label to the plot\n",
    "plt.ylabel('count') # add y-label to the plot\n",
    "plt.title('Breakdown of Music Venue Subcategories for Cluster 2') # add title to the plot\n",
    "\n",
    "plt.show()"
   ]
  },
  {
   "cell_type": "code",
   "execution_count": 75,
   "metadata": {},
   "outputs": [
    {
     "data": {
      "image/png": "[encoded data removed]",
      "text/plain": [
       "<Figure size 720x432 with 1 Axes>"
      ]
     },
     "metadata": {
      "needs_background": "light"
     },
     "output_type": "display_data"
    }
   ],
   "source": [
    "df_cluster0=cluster_data[cluster_data.cluster == 0]\n",
    "df_cluster0=df_cluster0['categories'].value_counts()\n",
    "\n",
    "df_cluster0.plot(kind='bar', figsize=(10, 6))\n",
    "\n",
    "plt.xlabel('subcategory') # add to x-label to the plot\n",
    "plt.ylabel('count') # add y-label to the plot\n",
    "plt.title('Breakdown of Music Venue Subcategories for Cluster 0') # add title to the plot\n",
    "\n",
    "plt.show()"
   ]
  },
  {
   "cell_type": "markdown",
   "metadata": {},
   "source": [
    "### Finally we can use the Foursqure API one more time to retrieve the ratings for each venue.\n",
    "### The free version of the Foursquare API limits the number of calls you can make to retrieve this information.\n",
    "### I found this out the hard way and had to create a new account!\n",
    "### So lets play it safe here with a simple loop that will easily show us all 50 results."
   ]
  },
  {
   "cell_type": "code",
   "execution_count": 60,
   "metadata": {},
   "outputs": [
    {
     "name": "stdout",
     "output_type": "stream",
     "text": [
      "8.9 5538733e498e339377d11a0f\n",
      "8.8 4b058668f964a520cb6022e3\n",
      "7.4 4c2a5387d1a10f478144f664\n",
      "6.4 4b1c441cf964a5203a0524e3\n",
      "7.8 4b058669f964a520f36022e3\n",
      "8.3 4c51f113250dd13aa45a0b7e\n",
      "6.9 4b058669f964a520f16022e3\n",
      "This venue has not been rated yet. 5dbaf91c212f1d0008e5459b\n",
      "8.9 5838b1be424f9379714ee353\n",
      "8.0 4b197e7ef964a5205cde23e3\n",
      "This venue has not been rated yet. 5a8a4a87c97f285cf671ab4d\n",
      "7.6 4b05866af964a520326122e3\n",
      "8.7 4b058674f964a5200b6322e3\n",
      "9.3 4b073747f964a520d4f922e3\n",
      "7.8 4b135005f964a520509623e3\n",
      "8.3 4f4969b8e4b096208878d9eb\n",
      "8.6 4b058669f964a520ed6022e3\n",
      "8.8 4b05866af964a5200b6122e3\n",
      "8.5 4e7d64ac196b2107d844db5c\n",
      "8.5 4b10b461f964a520f17423e3\n",
      "8.7 5ae733e073fe25002b458d68\n",
      "7.2 59dd8f70065ef52f745c23af\n",
      "This venue has not been rated yet. 570f493e498e41406f476d6a\n",
      "8.8 4e1b0c6662e16895c3f56d8a\n",
      "8.7 4b05866af964a520236122e3\n",
      "7.8 5698a1c1498e3186137bb598\n",
      "8.2 4b05866af964a5201f6122e3\n",
      "8.8 4b05866df964a520a86122e3\n",
      "8.0 4b05866af964a520166122e3\n",
      "7.9 4bafdb84f964a52092263ce3\n",
      "This venue has not been rated yet. 4cd5ee6a2944b1f7c94060ec\n",
      "This venue has not been rated yet. 544af3bf498e317ec4c4032c\n",
      "This venue has not been rated yet. 513f9395e4b0268b6a7c40fc\n",
      "This venue has not been rated yet. 5716c36338fa0f8a983265e7\n",
      "This venue has not been rated yet. 50395817e4b0173f757aed34\n",
      "This venue has not been rated yet. 56346fa7498e862cbd0011b9\n",
      "8.3 4c38d74e3849c928303bc0b1\n",
      "8.8 53b605bc498e876802858496\n",
      "9.1 55807ef3498eb8ba1bef5b66\n",
      "9.4 4b05866ff964a520296222e3\n",
      "9.0 4b8c3d87f964a520f7c532e3\n",
      "5.8 4b0adef9f964a5203e2923e3\n",
      "8.5 4b058669f964a520f06022e3\n",
      "This venue has not been rated yet. 4e9b6f8a30f87c966cabafa6\n",
      "8.2 5b0b445467a9fe002cd23f6a\n",
      "9.2 4c896989770fb60c02aac9c3\n",
      "This venue has not been rated yet. 56459339498e0cf95ca3a4a1\n",
      "8.0 4b16e6baf964a52035bf23e3\n",
      "This venue has not been rated yet. 4db22eeaa86e2185363dbda0\n",
      "7.3 4fcd15dabe77c84b2c6fab78\n"
     ]
    }
   ],
   "source": [
    "i_list = dataframe_filtered['id'].tolist()\n",
    "\n",
    "for t in i_list:\n",
    "    result = requests.get('https://api.foursquare.com/v2/venues/{}?client_id={}&client_secret={}&v={}'.format(t, CLIENT_ID, CLIENT_SECRET, VERSION)).json()\n",
    "    try:\n",
    "        print(result['response']['venue']['rating'], t)\n",
    "    except:\n",
    "        print('This venue has not been rated yet.', t)\n"
   ]
  },
  {
   "cell_type": "markdown",
   "metadata": {},
   "source": [
    "### Using those results, we can display a dataframe that shows the clusters and names of the top 10 venues based on ratings."
   ]
  },
  {
   "cell_type": "code",
   "execution_count": 68,
   "metadata": {},
   "outputs": [
    {
     "data": {
      "text/html": [
       "<div>\n",
       "<style scoped>\n",
       "    .dataframe tbody tr th:only-of-type {\n",
       "        vertical-align: middle;\n",
       "    }\n",
       "\n",
       "    .dataframe tbody tr th {\n",
       "        vertical-align: top;\n",
       "    }\n",
       "\n",
       "    .dataframe thead th {\n",
       "        text-align: right;\n",
       "    }\n",
       "</style>\n",
       "<table border=\"1\" class=\"dataframe\">\n",
       "  <thead>\n",
       "    <tr style=\"text-align: right;\">\n",
       "      <th></th>\n",
       "      <th>name</th>\n",
       "      <th>cluster</th>\n",
       "    </tr>\n",
       "    <tr>\n",
       "      <th>id</th>\n",
       "      <th></th>\n",
       "      <th></th>\n",
       "    </tr>\n",
       "  </thead>\n",
       "  <tbody>\n",
       "    <tr>\n",
       "      <td>4b073747f964a520d4f922e3</td>\n",
       "      <td>Centennial Park</td>\n",
       "      <td>-1</td>\n",
       "    </tr>\n",
       "    <tr>\n",
       "      <td>55807ef3498eb8ba1bef5b66</td>\n",
       "      <td>Ascend Amphitheater</td>\n",
       "      <td>1</td>\n",
       "    </tr>\n",
       "    <tr>\n",
       "      <td>4b05866ff964a520296222e3</td>\n",
       "      <td>Ryman Auditorium</td>\n",
       "      <td>1</td>\n",
       "    </tr>\n",
       "    <tr>\n",
       "      <td>4b8c3d87f964a520f7c532e3</td>\n",
       "      <td>Bridgestone Arena</td>\n",
       "      <td>1</td>\n",
       "    </tr>\n",
       "    <tr>\n",
       "      <td>4c896989770fb60c02aac9c3</td>\n",
       "      <td>Live On The Green Music Festival</td>\n",
       "      <td>1</td>\n",
       "    </tr>\n",
       "    <tr>\n",
       "      <td>5538733e498e339377d11a0f</td>\n",
       "      <td>The Basement East</td>\n",
       "      <td>-1</td>\n",
       "    </tr>\n",
       "    <tr>\n",
       "      <td>5838b1be424f9379714ee353</td>\n",
       "      <td>Nudie's Honky Tonk</td>\n",
       "      <td>1</td>\n",
       "    </tr>\n",
       "    <tr>\n",
       "      <td>4b058668f964a520cb6022e3</td>\n",
       "      <td>3rd &amp; Lindsley Bar and Grill</td>\n",
       "      <td>3</td>\n",
       "    </tr>\n",
       "    <tr>\n",
       "      <td>4e1b0c6662e16895c3f56d8a</td>\n",
       "      <td>RCA Studio B</td>\n",
       "      <td>4</td>\n",
       "    </tr>\n",
       "    <tr>\n",
       "      <td>4b05866df964a520a86122e3</td>\n",
       "      <td>Bourbon Street Blues and Boogie Bar</td>\n",
       "      <td>1</td>\n",
       "    </tr>\n",
       "  </tbody>\n",
       "</table>\n",
       "</div>"
      ],
      "text/plain": [
       "                                                         name  cluster\n",
       "id                                                                    \n",
       "4b073747f964a520d4f922e3                      Centennial Park       -1\n",
       "55807ef3498eb8ba1bef5b66                  Ascend Amphitheater        1\n",
       "4b05866ff964a520296222e3                     Ryman Auditorium        1\n",
       "4b8c3d87f964a520f7c532e3                    Bridgestone Arena        1\n",
       "4c896989770fb60c02aac9c3     Live On The Green Music Festival        1\n",
       "5538733e498e339377d11a0f                    The Basement East       -1\n",
       "5838b1be424f9379714ee353                   Nudie's Honky Tonk        1\n",
       "4b058668f964a520cb6022e3         3rd & Lindsley Bar and Grill        3\n",
       "4e1b0c6662e16895c3f56d8a                         RCA Studio B        4\n",
       "4b05866df964a520a86122e3  Bourbon Street Blues and Boogie Bar        1"
      ]
     },
     "execution_count": 68,
     "metadata": {},
     "output_type": "execute_result"
    }
   ],
   "source": [
    "df_scores=dataframe_filtered[['id','name','cluster']]\n",
    "df_scores=df_scores.set_index('id')\n",
    "df_scores.loc[['4b073747f964a520d4f922e3','55807ef3498eb8ba1bef5b66','4b05866ff964a520296222e3','4b8c3d87f964a520f7c532e3','4c896989770fb60c02aac9c3','5538733e498e339377d11a0f','5838b1be424f9379714ee353','4b058668f964a520cb6022e3','4e1b0c6662e16895c3f56d8a','4b05866df964a520a86122e3'], : ]"
   ]
  },
  {
   "cell_type": "markdown",
   "metadata": {},
   "source": [
    "### Cluster 1, located in the central downtown area, not only has the most venues, but by far the most top 10 venues as well.\n",
    "### There are two venues in the top 10 that have a -1 cluster value, meaning they are not located in any cluster."
   ]
  },
  {
   "cell_type": "code",
   "execution_count": null,
   "metadata": {},
   "outputs": [],
   "source": []
  }
 ],
 "metadata": {
  "kernelspec": {
   "display_name": "Python 3",
   "language": "python",
   "name": "python3"
  },
  "language_info": {
   "codemirror_mode": {
    "name": "ipython",
    "version": 3
   },
   "file_extension": ".py",
   "mimetype": "text/x-python",
   "name": "python",
   "nbconvert_exporter": "python",
   "pygments_lexer": "ipython3",
   "version": "3.7.4"
  }
 },
 "nbformat": 4,
 "nbformat_minor": 4
}
