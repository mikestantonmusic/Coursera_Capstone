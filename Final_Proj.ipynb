{
 "cells": [
  {
   "cell_type": "code",
   "execution_count": 1,
   "metadata": {},
   "outputs": [
    {
     "name": "stdout",
     "output_type": "stream",
     "text": [
      "Folium installed\n",
      "Libraries imported.\n"
     ]
    }
   ],
   "source": [
    "import requests # library to handle requests\n",
    "import pandas as pd # library for data analsysis\n",
    "import numpy as np # library to handle data in a vectorized manner\n",
    "import random # library for random number generation\n",
    "\n",
    "# libraries for displaying images\n",
    "from IPython.display import Image \n",
    "from IPython.core.display import HTML \n",
    "    \n",
    "# tranforming json file into a pandas dataframe library\n",
    "from pandas.io.json import json_normalize\n",
    "\n",
    "import folium # plotting library\n",
    "\n",
    "print('Folium installed')\n",
    "print('Libraries imported.')"
   ]
  },
  {
   "cell_type": "code",
   "execution_count": 2,
   "metadata": {},
   "outputs": [
    {
     "name": "stdout",
     "output_type": "stream",
     "text": [
      "Your credentails:\n",
      "CLIENT_ID: NRX2HJ0WUADV3KS2ZW0RUZ2X1X5FV5GZ5EQCRUKKEYP2TIKC\n",
      "CLIENT_SECRET:JJAWZLNLGMP51ATVOQLL4U0SRPOX30ROP4VBHYJHHXR5OTAQ\n"
     ]
    }
   ],
   "source": [
    "CLIENT_ID = 'NRX2HJ0WUADV3KS2ZW0RUZ2X1X5FV5GZ5EQCRUKKEYP2TIKC' # your Foursquare ID\n",
    "CLIENT_SECRET = 'JJAWZLNLGMP51ATVOQLL4U0SRPOX30ROP4VBHYJHHXR5OTAQ' # your Foursquare Secret\n",
    "VERSION = '20180604'\n",
    "LIMIT = 50\n",
    "print('Your credentails:')\n",
    "print('CLIENT_ID: ' + CLIENT_ID)\n",
    "print('CLIENT_SECRET:' + CLIENT_SECRET)"
   ]
  },
  {
   "cell_type": "markdown",
   "metadata": {},
   "source": [
    "### We will be exploring music venues in Nashville. \n",
    "### The first step is to retrieve the location data using the Foursquare API for the music venues closest to the center of Nashville.\n",
    "### Unfortunately the free version of the Foursquare API limits queries to 50 results.\n",
    "### However the 50 results actually cover an area roughly the size of Nashville, so this data will be enough for some meaningful analysis."
   ]
  },
  {
   "cell_type": "code",
   "execution_count": 3,
   "metadata": {},
   "outputs": [],
   "source": [
    "latitude = 36.174465\n",
    "longitude = -86.767960\n",
    "radius = 5000\n",
    "categoryId= '4bf58dd8d48988d1e5931735' #instead of searching a query, search by categoryId using the categoryId for Live Music Venues - there is a list of cat-Ids on the foursquare website\n",
    "url = 'https://api.foursquare.com/v2/venues/search?client_id={}&client_secret={}&ll={},{}&v={}&radius={}&limit={}&categoryId={}'.format(CLIENT_ID, CLIENT_SECRET, latitude, longitude, VERSION, radius, LIMIT, categoryId)\n",
    "results = requests.get(url).json()"
   ]
  },
  {
   "cell_type": "markdown",
   "metadata": {},
   "source": [
    "### After retreiving the location data using the Foursquare API, we convert the information from JSON format to a dataframe"
   ]
  },
  {
   "cell_type": "code",
   "execution_count": 4,
   "metadata": {},
   "outputs": [
    {
     "data": {
      "text/html": [
       "<div>\n",
       "<style scoped>\n",
       "    .dataframe tbody tr th:only-of-type {\n",
       "        vertical-align: middle;\n",
       "    }\n",
       "\n",
       "    .dataframe tbody tr th {\n",
       "        vertical-align: top;\n",
       "    }\n",
       "\n",
       "    .dataframe thead th {\n",
       "        text-align: right;\n",
       "    }\n",
       "</style>\n",
       "<table border=\"1\" class=\"dataframe\">\n",
       "  <thead>\n",
       "    <tr style=\"text-align: right;\">\n",
       "      <th></th>\n",
       "      <th>id</th>\n",
       "      <th>name</th>\n",
       "      <th>categories</th>\n",
       "      <th>referralId</th>\n",
       "      <th>hasPerk</th>\n",
       "      <th>location.address</th>\n",
       "      <th>location.lat</th>\n",
       "      <th>location.lng</th>\n",
       "      <th>location.labeledLatLngs</th>\n",
       "      <th>location.distance</th>\n",
       "      <th>...</th>\n",
       "      <th>location.formattedAddress</th>\n",
       "      <th>delivery.id</th>\n",
       "      <th>delivery.url</th>\n",
       "      <th>delivery.provider.name</th>\n",
       "      <th>delivery.provider.icon.prefix</th>\n",
       "      <th>delivery.provider.icon.sizes</th>\n",
       "      <th>delivery.provider.icon.name</th>\n",
       "      <th>location.crossStreet</th>\n",
       "      <th>venuePage.id</th>\n",
       "      <th>location.neighborhood</th>\n",
       "    </tr>\n",
       "  </thead>\n",
       "  <tbody>\n",
       "    <tr>\n",
       "      <td>0</td>\n",
       "      <td>5538733e498e339377d11a0f</td>\n",
       "      <td>The Basement East</td>\n",
       "      <td>[{'id': '4bf58dd8d48988d1e9931735', 'name': 'R...</td>\n",
       "      <td>v-1606968826</td>\n",
       "      <td>False</td>\n",
       "      <td>917 Woodland St</td>\n",
       "      <td>36.175629</td>\n",
       "      <td>-86.755681</td>\n",
       "      <td>[{'label': 'display', 'lat': 36.17562944628696...</td>\n",
       "      <td>1110</td>\n",
       "      <td>...</td>\n",
       "      <td>[917 Woodland St, Nashville, TN 37206, United ...</td>\n",
       "      <td>2249008</td>\n",
       "      <td>https://www.grubhub.com/restaurant/the-pub-at-...</td>\n",
       "      <td>grubhub</td>\n",
       "      <td>https://fastly.4sqi.net/img/general/cap/</td>\n",
       "      <td>[40, 50]</td>\n",
       "      <td>/delivery_provider_grubhub_20180129.png</td>\n",
       "      <td>NaN</td>\n",
       "      <td>NaN</td>\n",
       "      <td>NaN</td>\n",
       "    </tr>\n",
       "    <tr>\n",
       "      <td>1</td>\n",
       "      <td>4b1c441cf964a5203a0524e3</td>\n",
       "      <td>Commodore Grille</td>\n",
       "      <td>[{'id': '4bf58dd8d48988d14e941735', 'name': 'A...</td>\n",
       "      <td>v-1606968826</td>\n",
       "      <td>False</td>\n",
       "      <td>2613 West End Ave</td>\n",
       "      <td>36.145022</td>\n",
       "      <td>-86.811139</td>\n",
       "      <td>[{'label': 'display', 'lat': 36.14502192586651...</td>\n",
       "      <td>5079</td>\n",
       "      <td>...</td>\n",
       "      <td>[2613 West End Ave (at Holiday Inn West End Ho...</td>\n",
       "      <td>NaN</td>\n",
       "      <td>NaN</td>\n",
       "      <td>NaN</td>\n",
       "      <td>NaN</td>\n",
       "      <td>NaN</td>\n",
       "      <td>NaN</td>\n",
       "      <td>at Holiday Inn West End Hotel</td>\n",
       "      <td>76721496</td>\n",
       "      <td>NaN</td>\n",
       "    </tr>\n",
       "    <tr>\n",
       "      <td>2</td>\n",
       "      <td>5dbaf91c212f1d0008e5459b</td>\n",
       "      <td>Fat Kat Slim’s</td>\n",
       "      <td>[{'id': '4bf58dd8d48988d147941735', 'name': 'D...</td>\n",
       "      <td>v-1606968826</td>\n",
       "      <td>False</td>\n",
       "      <td>730 8th Ave S</td>\n",
       "      <td>36.149453</td>\n",
       "      <td>-86.778806</td>\n",
       "      <td>[{'label': 'display', 'lat': 36.14945303273163...</td>\n",
       "      <td>2949</td>\n",
       "      <td>...</td>\n",
       "      <td>[730 8th Ave S (Division Street), Nashville, T...</td>\n",
       "      <td>NaN</td>\n",
       "      <td>NaN</td>\n",
       "      <td>NaN</td>\n",
       "      <td>NaN</td>\n",
       "      <td>NaN</td>\n",
       "      <td>NaN</td>\n",
       "      <td>Division Street</td>\n",
       "      <td>NaN</td>\n",
       "      <td>SoBro, Nashville, TN</td>\n",
       "    </tr>\n",
       "    <tr>\n",
       "      <td>3</td>\n",
       "      <td>4c2a5387d1a10f478144f664</td>\n",
       "      <td>Belcourt Taps</td>\n",
       "      <td>[{'id': '4bf58dd8d48988d116941735', 'name': 'B...</td>\n",
       "      <td>v-1606968826</td>\n",
       "      <td>False</td>\n",
       "      <td>2117 Belcourt Ave</td>\n",
       "      <td>36.136625</td>\n",
       "      <td>-86.802382</td>\n",
       "      <td>[{'label': 'display', 'lat': 36.13662518832823...</td>\n",
       "      <td>5226</td>\n",
       "      <td>...</td>\n",
       "      <td>[2117 Belcourt Ave, Nashville, TN 37212, Unite...</td>\n",
       "      <td>1556846</td>\n",
       "      <td>https://www.grubhub.com/restaurant/belcourt-ta...</td>\n",
       "      <td>grubhub</td>\n",
       "      <td>https://fastly.4sqi.net/img/general/cap/</td>\n",
       "      <td>[40, 50]</td>\n",
       "      <td>/delivery_provider_grubhub_20180129.png</td>\n",
       "      <td>NaN</td>\n",
       "      <td>45398177</td>\n",
       "      <td>NaN</td>\n",
       "    </tr>\n",
       "    <tr>\n",
       "      <td>4</td>\n",
       "      <td>4c51f113250dd13aa45a0b7e</td>\n",
       "      <td>Music Row</td>\n",
       "      <td>[{'id': '4bf58dd8d48988d1e5931735', 'name': 'M...</td>\n",
       "      <td>v-1606968826</td>\n",
       "      <td>False</td>\n",
       "      <td>17th Avenue South</td>\n",
       "      <td>36.147174</td>\n",
       "      <td>-86.794537</td>\n",
       "      <td>[{'label': 'display', 'lat': 36.14717362547872...</td>\n",
       "      <td>3864</td>\n",
       "      <td>...</td>\n",
       "      <td>[17th Avenue South, Nashville, TN 37203, Unite...</td>\n",
       "      <td>NaN</td>\n",
       "      <td>NaN</td>\n",
       "      <td>NaN</td>\n",
       "      <td>NaN</td>\n",
       "      <td>NaN</td>\n",
       "      <td>NaN</td>\n",
       "      <td>NaN</td>\n",
       "      <td>NaN</td>\n",
       "      <td>NaN</td>\n",
       "    </tr>\n",
       "  </tbody>\n",
       "</table>\n",
       "<p>5 rows × 25 columns</p>\n",
       "</div>"
      ],
      "text/plain": [
       "                         id               name  \\\n",
       "0  5538733e498e339377d11a0f  The Basement East   \n",
       "1  4b1c441cf964a5203a0524e3   Commodore Grille   \n",
       "2  5dbaf91c212f1d0008e5459b     Fat Kat Slim’s   \n",
       "3  4c2a5387d1a10f478144f664      Belcourt Taps   \n",
       "4  4c51f113250dd13aa45a0b7e          Music Row   \n",
       "\n",
       "                                          categories    referralId  hasPerk  \\\n",
       "0  [{'id': '4bf58dd8d48988d1e9931735', 'name': 'R...  v-1606968826    False   \n",
       "1  [{'id': '4bf58dd8d48988d14e941735', 'name': 'A...  v-1606968826    False   \n",
       "2  [{'id': '4bf58dd8d48988d147941735', 'name': 'D...  v-1606968826    False   \n",
       "3  [{'id': '4bf58dd8d48988d116941735', 'name': 'B...  v-1606968826    False   \n",
       "4  [{'id': '4bf58dd8d48988d1e5931735', 'name': 'M...  v-1606968826    False   \n",
       "\n",
       "    location.address  location.lat  location.lng  \\\n",
       "0    917 Woodland St     36.175629    -86.755681   \n",
       "1  2613 West End Ave     36.145022    -86.811139   \n",
       "2      730 8th Ave S     36.149453    -86.778806   \n",
       "3  2117 Belcourt Ave     36.136625    -86.802382   \n",
       "4  17th Avenue South     36.147174    -86.794537   \n",
       "\n",
       "                             location.labeledLatLngs  location.distance  ...  \\\n",
       "0  [{'label': 'display', 'lat': 36.17562944628696...               1110  ...   \n",
       "1  [{'label': 'display', 'lat': 36.14502192586651...               5079  ...   \n",
       "2  [{'label': 'display', 'lat': 36.14945303273163...               2949  ...   \n",
       "3  [{'label': 'display', 'lat': 36.13662518832823...               5226  ...   \n",
       "4  [{'label': 'display', 'lat': 36.14717362547872...               3864  ...   \n",
       "\n",
       "                           location.formattedAddress delivery.id  \\\n",
       "0  [917 Woodland St, Nashville, TN 37206, United ...     2249008   \n",
       "1  [2613 West End Ave (at Holiday Inn West End Ho...         NaN   \n",
       "2  [730 8th Ave S (Division Street), Nashville, T...         NaN   \n",
       "3  [2117 Belcourt Ave, Nashville, TN 37212, Unite...     1556846   \n",
       "4  [17th Avenue South, Nashville, TN 37203, Unite...         NaN   \n",
       "\n",
       "                                        delivery.url delivery.provider.name  \\\n",
       "0  https://www.grubhub.com/restaurant/the-pub-at-...                grubhub   \n",
       "1                                                NaN                    NaN   \n",
       "2                                                NaN                    NaN   \n",
       "3  https://www.grubhub.com/restaurant/belcourt-ta...                grubhub   \n",
       "4                                                NaN                    NaN   \n",
       "\n",
       "              delivery.provider.icon.prefix delivery.provider.icon.sizes  \\\n",
       "0  https://fastly.4sqi.net/img/general/cap/                     [40, 50]   \n",
       "1                                       NaN                          NaN   \n",
       "2                                       NaN                          NaN   \n",
       "3  https://fastly.4sqi.net/img/general/cap/                     [40, 50]   \n",
       "4                                       NaN                          NaN   \n",
       "\n",
       "               delivery.provider.icon.name           location.crossStreet  \\\n",
       "0  /delivery_provider_grubhub_20180129.png                            NaN   \n",
       "1                                      NaN  at Holiday Inn West End Hotel   \n",
       "2                                      NaN                Division Street   \n",
       "3  /delivery_provider_grubhub_20180129.png                            NaN   \n",
       "4                                      NaN                            NaN   \n",
       "\n",
       "  venuePage.id location.neighborhood  \n",
       "0          NaN                   NaN  \n",
       "1     76721496                   NaN  \n",
       "2          NaN  SoBro, Nashville, TN  \n",
       "3     45398177                   NaN  \n",
       "4          NaN                   NaN  \n",
       "\n",
       "[5 rows x 25 columns]"
      ]
     },
     "execution_count": 4,
     "metadata": {},
     "output_type": "execute_result"
    }
   ],
   "source": [
    "# assign relevant part of JSON to venues\n",
    "venues = results['response']['venues']\n",
    "\n",
    "# tranform venues into a dataframe\n",
    "dataframe = json_normalize(venues)\n",
    "dataframe.head()"
   ]
  },
  {
   "cell_type": "code",
   "execution_count": 5,
   "metadata": {},
   "outputs": [
    {
     "data": {
      "text/plain": [
       "(50, 25)"
      ]
     },
     "execution_count": 5,
     "metadata": {},
     "output_type": "execute_result"
    }
   ],
   "source": [
    "dataframe.shape"
   ]
  },
  {
   "cell_type": "markdown",
   "metadata": {},
   "source": [
    "### Then we clean up the dataframe..."
   ]
  },
  {
   "cell_type": "code",
   "execution_count": 6,
   "metadata": {},
   "outputs": [
    {
     "data": {
      "text/html": [
       "<div>\n",
       "<style scoped>\n",
       "    .dataframe tbody tr th:only-of-type {\n",
       "        vertical-align: middle;\n",
       "    }\n",
       "\n",
       "    .dataframe tbody tr th {\n",
       "        vertical-align: top;\n",
       "    }\n",
       "\n",
       "    .dataframe thead th {\n",
       "        text-align: right;\n",
       "    }\n",
       "</style>\n",
       "<table border=\"1\" class=\"dataframe\">\n",
       "  <thead>\n",
       "    <tr style=\"text-align: right;\">\n",
       "      <th></th>\n",
       "      <th>name</th>\n",
       "      <th>categories</th>\n",
       "      <th>address</th>\n",
       "      <th>lat</th>\n",
       "      <th>lng</th>\n",
       "      <th>labeledLatLngs</th>\n",
       "      <th>distance</th>\n",
       "      <th>postalCode</th>\n",
       "      <th>cc</th>\n",
       "      <th>city</th>\n",
       "      <th>state</th>\n",
       "      <th>country</th>\n",
       "      <th>formattedAddress</th>\n",
       "      <th>crossStreet</th>\n",
       "      <th>neighborhood</th>\n",
       "      <th>id</th>\n",
       "    </tr>\n",
       "  </thead>\n",
       "  <tbody>\n",
       "    <tr>\n",
       "      <td>0</td>\n",
       "      <td>The Basement East</td>\n",
       "      <td>Rock Club</td>\n",
       "      <td>917 Woodland St</td>\n",
       "      <td>36.175629</td>\n",
       "      <td>-86.755681</td>\n",
       "      <td>[{'label': 'display', 'lat': 36.17562944628696...</td>\n",
       "      <td>1110</td>\n",
       "      <td>37206</td>\n",
       "      <td>US</td>\n",
       "      <td>Nashville</td>\n",
       "      <td>TN</td>\n",
       "      <td>United States</td>\n",
       "      <td>[917 Woodland St, Nashville, TN 37206, United ...</td>\n",
       "      <td>NaN</td>\n",
       "      <td>NaN</td>\n",
       "      <td>5538733e498e339377d11a0f</td>\n",
       "    </tr>\n",
       "    <tr>\n",
       "      <td>1</td>\n",
       "      <td>Commodore Grille</td>\n",
       "      <td>American Restaurant</td>\n",
       "      <td>2613 West End Ave</td>\n",
       "      <td>36.145022</td>\n",
       "      <td>-86.811139</td>\n",
       "      <td>[{'label': 'display', 'lat': 36.14502192586651...</td>\n",
       "      <td>5079</td>\n",
       "      <td>37203</td>\n",
       "      <td>US</td>\n",
       "      <td>Nashville</td>\n",
       "      <td>TN</td>\n",
       "      <td>United States</td>\n",
       "      <td>[2613 West End Ave (at Holiday Inn West End Ho...</td>\n",
       "      <td>at Holiday Inn West End Hotel</td>\n",
       "      <td>NaN</td>\n",
       "      <td>4b1c441cf964a5203a0524e3</td>\n",
       "    </tr>\n",
       "    <tr>\n",
       "      <td>2</td>\n",
       "      <td>Fat Kat Slim’s</td>\n",
       "      <td>Diner</td>\n",
       "      <td>730 8th Ave S</td>\n",
       "      <td>36.149453</td>\n",
       "      <td>-86.778806</td>\n",
       "      <td>[{'label': 'display', 'lat': 36.14945303273163...</td>\n",
       "      <td>2949</td>\n",
       "      <td>37203</td>\n",
       "      <td>US</td>\n",
       "      <td>Nashville</td>\n",
       "      <td>TN</td>\n",
       "      <td>United States</td>\n",
       "      <td>[730 8th Ave S (Division Street), Nashville, T...</td>\n",
       "      <td>Division Street</td>\n",
       "      <td>SoBro, Nashville, TN</td>\n",
       "      <td>5dbaf91c212f1d0008e5459b</td>\n",
       "    </tr>\n",
       "    <tr>\n",
       "      <td>3</td>\n",
       "      <td>Belcourt Taps</td>\n",
       "      <td>Bar</td>\n",
       "      <td>2117 Belcourt Ave</td>\n",
       "      <td>36.136625</td>\n",
       "      <td>-86.802382</td>\n",
       "      <td>[{'label': 'display', 'lat': 36.13662518832823...</td>\n",
       "      <td>5226</td>\n",
       "      <td>37212</td>\n",
       "      <td>US</td>\n",
       "      <td>Nashville</td>\n",
       "      <td>TN</td>\n",
       "      <td>United States</td>\n",
       "      <td>[2117 Belcourt Ave, Nashville, TN 37212, Unite...</td>\n",
       "      <td>NaN</td>\n",
       "      <td>NaN</td>\n",
       "      <td>4c2a5387d1a10f478144f664</td>\n",
       "    </tr>\n",
       "    <tr>\n",
       "      <td>4</td>\n",
       "      <td>Music Row</td>\n",
       "      <td>Music Venue</td>\n",
       "      <td>17th Avenue South</td>\n",
       "      <td>36.147174</td>\n",
       "      <td>-86.794537</td>\n",
       "      <td>[{'label': 'display', 'lat': 36.14717362547872...</td>\n",
       "      <td>3864</td>\n",
       "      <td>37203</td>\n",
       "      <td>US</td>\n",
       "      <td>Nashville</td>\n",
       "      <td>TN</td>\n",
       "      <td>United States</td>\n",
       "      <td>[17th Avenue South, Nashville, TN 37203, Unite...</td>\n",
       "      <td>NaN</td>\n",
       "      <td>NaN</td>\n",
       "      <td>4c51f113250dd13aa45a0b7e</td>\n",
       "    </tr>\n",
       "  </tbody>\n",
       "</table>\n",
       "</div>"
      ],
      "text/plain": [
       "                name           categories            address        lat  \\\n",
       "0  The Basement East            Rock Club    917 Woodland St  36.175629   \n",
       "1   Commodore Grille  American Restaurant  2613 West End Ave  36.145022   \n",
       "2     Fat Kat Slim’s                Diner      730 8th Ave S  36.149453   \n",
       "3      Belcourt Taps                  Bar  2117 Belcourt Ave  36.136625   \n",
       "4          Music Row          Music Venue  17th Avenue South  36.147174   \n",
       "\n",
       "         lng                                     labeledLatLngs  distance  \\\n",
       "0 -86.755681  [{'label': 'display', 'lat': 36.17562944628696...      1110   \n",
       "1 -86.811139  [{'label': 'display', 'lat': 36.14502192586651...      5079   \n",
       "2 -86.778806  [{'label': 'display', 'lat': 36.14945303273163...      2949   \n",
       "3 -86.802382  [{'label': 'display', 'lat': 36.13662518832823...      5226   \n",
       "4 -86.794537  [{'label': 'display', 'lat': 36.14717362547872...      3864   \n",
       "\n",
       "  postalCode  cc       city state        country  \\\n",
       "0      37206  US  Nashville    TN  United States   \n",
       "1      37203  US  Nashville    TN  United States   \n",
       "2      37203  US  Nashville    TN  United States   \n",
       "3      37212  US  Nashville    TN  United States   \n",
       "4      37203  US  Nashville    TN  United States   \n",
       "\n",
       "                                    formattedAddress  \\\n",
       "0  [917 Woodland St, Nashville, TN 37206, United ...   \n",
       "1  [2613 West End Ave (at Holiday Inn West End Ho...   \n",
       "2  [730 8th Ave S (Division Street), Nashville, T...   \n",
       "3  [2117 Belcourt Ave, Nashville, TN 37212, Unite...   \n",
       "4  [17th Avenue South, Nashville, TN 37203, Unite...   \n",
       "\n",
       "                     crossStreet          neighborhood  \\\n",
       "0                            NaN                   NaN   \n",
       "1  at Holiday Inn West End Hotel                   NaN   \n",
       "2                Division Street  SoBro, Nashville, TN   \n",
       "3                            NaN                   NaN   \n",
       "4                            NaN                   NaN   \n",
       "\n",
       "                         id  \n",
       "0  5538733e498e339377d11a0f  \n",
       "1  4b1c441cf964a5203a0524e3  \n",
       "2  5dbaf91c212f1d0008e5459b  \n",
       "3  4c2a5387d1a10f478144f664  \n",
       "4  4c51f113250dd13aa45a0b7e  "
      ]
     },
     "execution_count": 6,
     "metadata": {},
     "output_type": "execute_result"
    }
   ],
   "source": [
    "# keep only columns that include venue name, and anything that is associated with location\n",
    "filtered_columns = ['name', 'categories'] + [col for col in dataframe.columns if col.startswith('location.')] + ['id']\n",
    "dataframe_filtered = dataframe.loc[:, filtered_columns]\n",
    "\n",
    "# function that extracts the category of the venue\n",
    "def get_category_type(row):\n",
    "    try:\n",
    "        categories_list = row['categories']\n",
    "    except:\n",
    "        categories_list = row['venue.categories']\n",
    "        \n",
    "    if len(categories_list) == 0:\n",
    "        return None\n",
    "    else:\n",
    "        return categories_list[0]['name']\n",
    "\n",
    "# filter the category for each row\n",
    "dataframe_filtered['categories'] = dataframe_filtered.apply(get_category_type, axis=1)\n",
    "\n",
    "# clean column names by keeping only last term\n",
    "dataframe_filtered.columns = [column.split('.')[-1] for column in dataframe_filtered.columns]\n",
    "\n",
    "dataframe_filtered.head(5)"
   ]
  },
  {
   "cell_type": "markdown",
   "metadata": {},
   "source": [
    "### And finally we are ready to plot the venue locations on a map of the city using the latitude and longitude coordinates for each venue."
   ]
  },
  {
   "cell_type": "code",
   "execution_count": 7,
   "metadata": {},
   "outputs": [
    {
     "data": {
      "text/html": [
       "<div style=\"width:100%;\"><div style=\"position:relative;width:100%;height:0;padding-bottom:60%;\"><span style=\"color:#565656\">Make this Notebook Trusted to load map: File -> Trust Notebook</span><iframe src=\"about:blank\" style=\"position:absolute;width:100%;height:100%;left:0;top:0;border:none !important;\" data-html=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 onload=\"this.contentDocument.open();this.contentDocument.write(atob(this.getAttribute('data-html')));this.contentDocument.close();\" allowfullscreen webkitallowfullscreen mozallowfullscreen></iframe></div></div>"
      ],
      "text/plain": [
       "<folium.folium.Map at 0x1b2ffec3fc8>"
      ]
     },
     "execution_count": 7,
     "metadata": {},
     "output_type": "execute_result"
    }
   ],
   "source": [
    "venues_map = folium.Map(location=[latitude, longitude], zoom_start=12) # generate map centred around the Conrad Hotel\n",
    "\n",
    "# add a red circle marker to represent the Conrad Hotel\n",
    "folium.CircleMarker(\n",
    "    [latitude, longitude],\n",
    "    radius=10,\n",
    "    color='red',\n",
    "    popup='Conrad Hotel',\n",
    "    fill = True,\n",
    "    fill_color = 'red',\n",
    "    fill_opacity = 0.6\n",
    ").add_to(venues_map)\n",
    "\n",
    "# add the Italian restaurants as blue circle markers\n",
    "for lat, lng, label in zip(dataframe_filtered.lat, dataframe_filtered.lng, dataframe_filtered.categories):\n",
    "    folium.CircleMarker(\n",
    "        [lat, lng],\n",
    "        radius=5,\n",
    "        color='blue',\n",
    "        popup=label,\n",
    "        fill = True,\n",
    "        fill_color='blue',\n",
    "        fill_opacity=0.6\n",
    "    ).add_to(venues_map)\n",
    "\n",
    "# display map\n",
    "venues_map"
   ]
  },
  {
   "cell_type": "markdown",
   "metadata": {},
   "source": [
    "### We can also use the location data of each venue to identify hot-spots, where multiple music venues are located in small areas.\n",
    "### We will use DBSCAN clustering to identify clusters of music venues based on the density of the coordinates."
   ]
  },
  {
   "cell_type": "code",
   "execution_count": 8,
   "metadata": {},
   "outputs": [],
   "source": [
    "from sklearn.cluster import DBSCAN \n",
    "from sklearn.datasets.samples_generator import make_blobs \n",
    "from collections import Counter\n",
    "from sklearn.preprocessing import StandardScaler \n",
    "import matplotlib.pyplot as plt \n",
    "from pylab import rcParams\n",
    "rcParams['figure.figsize'] = 14, 6\n",
    "%matplotlib inline"
   ]
  },
  {
   "cell_type": "code",
   "execution_count": 9,
   "metadata": {},
   "outputs": [
    {
     "data": {
      "image/png": "[encoded data removed]",
      "text/plain": [
       "<Figure size 432x288 with 1 Axes>"
      ]
     },
     "metadata": {
      "needs_background": "light"
     },
     "output_type": "display_data"
    }
   ],
   "source": [
    "_ = plt.plot(dataframe_filtered['lng'], dataframe_filtered['lat'],\n",
    "            marker='.', linewidth=0, color='#128128')\n",
    "_ = plt.grid(which='major', color='#cccccc', alpha=0.45)\n",
    "_ = plt.title('Geographical Distribution of Music Venues', family='Arial', fontsize=12)\n",
    "_ = plt.xlabel ('lng')\n",
    "_ = plt.ylabel ('lat')\n",
    "_ = plt.show()"
   ]
  },
  {
   "cell_type": "code",
   "execution_count": 10,
   "metadata": {},
   "outputs": [
    {
     "data": {
      "text/plain": [
       "array([[-86.755684,  36.17563 ],\n",
       "       [-86.81114 ,  36.145023],\n",
       "       [-86.77881 ,  36.149452],\n",
       "       [-86.80238 ,  36.136623],\n",
       "       [-86.79454 ,  36.147175],\n",
       "       [-86.81233 ,  36.14638 ],\n",
       "       [-86.778915,  36.131855],\n",
       "       [-86.81296 ,  36.14995 ],\n",
       "       [-86.776825,  36.160835],\n",
       "       [-86.81261 ,  36.145916],\n",
       "       [-86.76991 ,  36.15218 ],\n",
       "       [-86.797165,  36.164024],\n",
       "       [-86.778015,  36.160873],\n",
       "       [-86.7775  ,  36.160763],\n",
       "       [-86.778114,  36.1609  ],\n",
       "       [-86.80957 ,  36.14743 ],\n",
       "       [-86.79297 ,  36.15008 ],\n",
       "       [-86.78352 ,  36.152805],\n",
       "       [-86.77862 ,  36.13704 ],\n",
       "       [-86.78046 ,  36.15306 ],\n",
       "       [-86.78012 ,  36.152874],\n",
       "       [-86.77224 ,  36.153763],\n",
       "       [-86.77608 ,  36.161674],\n",
       "       [-86.77592 ,  36.163486],\n",
       "       [-86.75037 ,  36.178486],\n",
       "       [-86.80177 ,  36.180744],\n",
       "       [-86.77158 ,  36.154068],\n",
       "       [-86.77523 ,  36.121998],\n",
       "       [-86.75196 ,  36.201153],\n",
       "       [-86.79486 ,  36.150852],\n",
       "       [-86.77333 ,  36.15429 ],\n",
       "       [-86.79575 ,  36.148266],\n",
       "       [-86.77892 ,  36.155483],\n",
       "       [-86.74243 ,  36.17008 ],\n",
       "       [-86.803856,  36.151073],\n",
       "       [-86.774345,  36.161896],\n",
       "       [-86.778435,  36.167522],\n",
       "       [-86.778366,  36.15911 ],\n",
       "       [-86.7786  ,  36.161373],\n",
       "       [-86.778564,  36.160694],\n",
       "       [-86.7783  ,  36.160866],\n",
       "       [-86.77845 ,  36.166576],\n",
       "       [-86.77247 ,  36.190918],\n",
       "       [-86.77773 ,  36.160843],\n",
       "       [-86.77566 ,  36.161755],\n",
       "       [-86.771835,  36.159515],\n",
       "       [-86.78312 ,  36.16385 ],\n",
       "       [-86.79634 ,  36.150032],\n",
       "       [-86.77988 ,  36.16148 ],\n",
       "       [-86.77459 ,  36.163204]], dtype=float32)"
      ]
     },
     "execution_count": 10,
     "metadata": {},
     "output_type": "execute_result"
    }
   ],
   "source": [
    "dbscan_data = dataframe_filtered[['lng','lat']]\n",
    "dbscan_data = dbscan_data.values.astype('float32', copy=False)\n",
    "dbscan_data"
   ]
  },
  {
   "cell_type": "code",
   "execution_count": 11,
   "metadata": {},
   "outputs": [
    {
     "data": {
      "text/plain": [
       "array([[ 1.6988788 ,  1.3556958 ],\n",
       "       [-1.8727789 , -0.93535155],\n",
       "       [ 0.20958246, -0.6038165 ],\n",
       "       [-1.3087037 , -1.5641545 ],\n",
       "       [-0.803591  , -0.77429575],\n",
       "       [-1.9494303 , -0.83369225],\n",
       "       [ 0.20270349, -1.9211044 ],\n",
       "       [-1.9897214 , -0.5666937 ],\n",
       "       [ 0.3373347 ,  0.24829437],\n",
       "       [-1.9671191 , -0.8685306 ],\n",
       "       [ 0.7825021 , -0.39964113],\n",
       "       [-0.97261703,  0.48702246],\n",
       "       [ 0.26068333,  0.25114995],\n",
       "       [ 0.29409546,  0.24286872],\n",
       "       [ 0.25429574,  0.25314888],\n",
       "       [-1.7715598 , -0.75516325],\n",
       "       [-0.70237195, -0.5566991 ],\n",
       "       [-0.09407479, -0.3528093 ],\n",
       "       [ 0.22186632, -1.5330285 ],\n",
       "       [ 0.10344983, -0.3336768 ],\n",
       "       [ 0.12506944, -0.3476692 ],\n",
       "       [ 0.63263893, -0.28113377],\n",
       "       [ 0.38548744,  0.31111756],\n",
       "       [ 0.3958059 ,  0.4467585 ],\n",
       "       [ 2.041353  ,  1.5695802 ],\n",
       "       [-1.2693954 ,  1.7386317 ],\n",
       "       [ 0.6748954 , -0.25828895],\n",
       "       [ 0.44002783, -2.6589913 ],\n",
       "       [ 1.9386598 ,  3.2663774 ],\n",
       "       [-0.8242279 , -0.499016  ],\n",
       "       [ 0.5623752 , -0.24172649],\n",
       "       [-0.88171643, -0.69262564],\n",
       "       [ 0.20221214, -0.15234622],\n",
       "       [ 2.552362  ,  0.9402061 ],\n",
       "       [-1.4035351 , -0.48245353],\n",
       "       [ 0.49702498,  0.32768002],\n",
       "       [ 0.23365884,  0.7488809 ],\n",
       "       [ 0.23808104,  0.11922127],\n",
       "       [ 0.22284904,  0.2885583 ],\n",
       "       [ 0.22530581,  0.23772864],\n",
       "       [ 0.24250323,  0.25057885],\n",
       "       [ 0.23267613,  0.6780621 ],\n",
       "       [ 0.6178983 ,  2.50022   ],\n",
       "       [ 0.27886346,  0.24886549],\n",
       "       [ 0.41251194,  0.31711432],\n",
       "       [ 0.65868074,  0.14949062],\n",
       "       [-0.06803298,  0.47388673],\n",
       "       [-0.9195507 , -0.5604114 ],\n",
       "       [ 0.14079279,  0.296554  ],\n",
       "       [ 0.4813016 ,  0.42562708]], dtype=float32)"
      ]
     },
     "execution_count": 11,
     "metadata": {},
     "output_type": "execute_result"
    }
   ],
   "source": [
    "dbscan_data_scaler = StandardScaler().fit(dbscan_data)\n",
    "dbscan_data = dbscan_data_scaler.transform(dbscan_data)\n",
    "dbscan_data"
   ]
  },
  {
   "cell_type": "code",
   "execution_count": 12,
   "metadata": {},
   "outputs": [
    {
     "data": {
      "text/plain": [
       "DBSCAN(algorithm='auto', eps=0.25, leaf_size=30, metric='euclidean',\n",
       "       metric_params=None, min_samples=4, n_jobs=None, p=None)"
      ]
     },
     "execution_count": 12,
     "metadata": {},
     "output_type": "execute_result"
    }
   ],
   "source": [
    "model = DBSCAN(eps = 0.25, min_samples = 4, metric='euclidean').\\\n",
    "    fit(dbscan_data)\n",
    "model"
   ]
  },
  {
   "cell_type": "code",
   "execution_count": 13,
   "metadata": {},
   "outputs": [
    {
     "name": "stdout",
     "output_type": "stream",
     "text": [
      "Counter({-1: 17, 2: 16, 1: 5, 0: 4, 4: 4, 3: 4})\n",
      "                  name categories            address        lat        lng  \\\n",
      "0    The Basement East  Rock Club    917 Woodland St  36.175629 -86.755681   \n",
      "2       Fat Kat Slim’s      Diner      730 8th Ave S  36.149453 -86.778806   \n",
      "3        Belcourt Taps        Bar  2117 Belcourt Ave  36.136625 -86.802382   \n",
      "6  Douglas Corner Cafe   Dive Bar     2106 8th Ave S  36.131855 -86.778916   \n",
      "7      Centennial Park       Park     2500 W End Ave  36.149948 -86.812960   \n",
      "\n",
      "                                      labeledLatLngs  distance postalCode  cc  \\\n",
      "0  [{'label': 'display', 'lat': 36.17562944628696...      1110      37206  US   \n",
      "2  [{'label': 'display', 'lat': 36.14945303273163...      2949      37203  US   \n",
      "3  [{'label': 'display', 'lat': 36.13662518832823...      5226      37212  US   \n",
      "6  [{'label': 'display', 'lat': 36.13185462252452...      4844      37204  US   \n",
      "7  [{'label': 'display', 'lat': 36.14994844733332...      4879      37232  US   \n",
      "\n",
      "        city state        country  \\\n",
      "0  Nashville    TN  United States   \n",
      "2  Nashville    TN  United States   \n",
      "3  Nashville    TN  United States   \n",
      "6  Nashville    TN  United States   \n",
      "7  Nashville    TN  United States   \n",
      "\n",
      "                                    formattedAddress      crossStreet  \\\n",
      "0  [917 Woodland St, Nashville, TN 37206, United ...              NaN   \n",
      "2  [730 8th Ave S (Division Street), Nashville, T...  Division Street   \n",
      "3  [2117 Belcourt Ave, Nashville, TN 37212, Unite...              NaN   \n",
      "6  [2106 8th Ave S, Nashville, TN 37204, United S...              NaN   \n",
      "7  [2500 W End Ave (at 25th Ave), Nashville, TN 3...      at 25th Ave   \n",
      "\n",
      "           neighborhood                        id  \n",
      "0                   NaN  5538733e498e339377d11a0f  \n",
      "2  SoBro, Nashville, TN  5dbaf91c212f1d0008e5459b  \n",
      "3                   NaN  4c2a5387d1a10f478144f664  \n",
      "6                   NaN  4b05866af964a520326122e3  \n",
      "7                   NaN  4b073747f964a520d4f922e3  \n",
      "Number of clusters = 5\n"
     ]
    }
   ],
   "source": [
    "outliers_df = dataframe_filtered[model.labels_ == -1]\n",
    "clusters_df = dataframe_filtered[model.labels_ != -1]\n",
    "colors = model.labels_\n",
    "colors_clusters = colors[colors != -1]\n",
    "color_outliers = 'black'\n",
    "clusters = Counter(model.labels_)\n",
    "print(clusters)\n",
    "print(dataframe_filtered[model.labels_ == -1].head())\n",
    "print('Number of clusters = {}'.format(len(clusters)-1))"
   ]
  },
  {
   "cell_type": "code",
   "execution_count": 49,
   "metadata": {},
   "outputs": [
    {
     "data": {
      "image/png": "[encoded data removed]",
      "text/plain": [
       "<Figure size 432x288 with 1 Axes>"
      ]
     },
     "metadata": {
      "needs_background": "light"
     },
     "output_type": "display_data"
    }
   ],
   "source": [
    "fig = plt.figure()\n",
    "ax = fig.add_axes([.1, .1, 1, 1])\n",
    "ax.scatter(clusters_df['lng'], clusters_df['lat'],\n",
    "          c = colors_clusters, edgecolors='black', s=100)\n",
    "ax.scatter(outliers_df['lng'], outliers_df['lat'],\n",
    "          c = color_outliers, edgecolors='white', s=40)\n",
    "ax.set_xlabel('lng', family='Arial', fontsize=9)\n",
    "ax.set_ylabel('lat', family='Arial', fontsize=9)\n",
    "plt.title('Clustered Music Venues by DBSCAN', family='Arial', fontsize=12)\n",
    "plt.grid(which='major', color='#cccccc', alpha=0.45)\n",
    "plt.show()"
   ]
  },
  {
   "cell_type": "markdown",
   "metadata": {},
   "source": [
    "### Now that we've identified 5 music venue clusters, or hot-spots in Nashville, lets explore the different clusters and see what we can learn."
   ]
  },
  {
   "cell_type": "code",
   "execution_count": 51,
   "metadata": {},
   "outputs": [
    {
     "data": {
      "text/html": [
       "<div>\n",
       "<style scoped>\n",
       "    .dataframe tbody tr th:only-of-type {\n",
       "        vertical-align: middle;\n",
       "    }\n",
       "\n",
       "    .dataframe tbody tr th {\n",
       "        vertical-align: top;\n",
       "    }\n",
       "\n",
       "    .dataframe thead th {\n",
       "        text-align: right;\n",
       "    }\n",
       "</style>\n",
       "<table border=\"1\" class=\"dataframe\">\n",
       "  <thead>\n",
       "    <tr style=\"text-align: right;\">\n",
       "      <th></th>\n",
       "      <th>name</th>\n",
       "      <th>categories</th>\n",
       "      <th>cluster</th>\n",
       "    </tr>\n",
       "  </thead>\n",
       "  <tbody>\n",
       "    <tr>\n",
       "      <td>1</td>\n",
       "      <td>Commodore Grille</td>\n",
       "      <td>American Restaurant</td>\n",
       "      <td>0</td>\n",
       "    </tr>\n",
       "    <tr>\n",
       "      <td>4</td>\n",
       "      <td>Music Row</td>\n",
       "      <td>Music Venue</td>\n",
       "      <td>1</td>\n",
       "    </tr>\n",
       "    <tr>\n",
       "      <td>5</td>\n",
       "      <td>Springwater Supper Club &amp; Lounge</td>\n",
       "      <td>Dive Bar</td>\n",
       "      <td>0</td>\n",
       "    </tr>\n",
       "    <tr>\n",
       "      <td>8</td>\n",
       "      <td>Honky Tonk Central</td>\n",
       "      <td>Bar</td>\n",
       "      <td>2</td>\n",
       "    </tr>\n",
       "    <tr>\n",
       "      <td>9</td>\n",
       "      <td>The Local</td>\n",
       "      <td>Bar</td>\n",
       "      <td>0</td>\n",
       "    </tr>\n",
       "    <tr>\n",
       "      <td>10</td>\n",
       "      <td>3rd &amp; Lindsley Bar and Grill</td>\n",
       "      <td>Bar</td>\n",
       "      <td>4</td>\n",
       "    </tr>\n",
       "    <tr>\n",
       "      <td>12</td>\n",
       "      <td>Robert's Western World</td>\n",
       "      <td>Bar</td>\n",
       "      <td>2</td>\n",
       "    </tr>\n",
       "    <tr>\n",
       "      <td>13</td>\n",
       "      <td>Nudie's Honky Tonk</td>\n",
       "      <td>Bar</td>\n",
       "      <td>2</td>\n",
       "    </tr>\n",
       "    <tr>\n",
       "      <td>14</td>\n",
       "      <td>Layla's</td>\n",
       "      <td>Bar</td>\n",
       "      <td>2</td>\n",
       "    </tr>\n",
       "    <tr>\n",
       "      <td>15</td>\n",
       "      <td>Musicians Corner @ Centennial Park</td>\n",
       "      <td>Music Venue</td>\n",
       "      <td>0</td>\n",
       "    </tr>\n",
       "    <tr>\n",
       "      <td>16</td>\n",
       "      <td>RCA Studio B</td>\n",
       "      <td>Historic Site</td>\n",
       "      <td>1</td>\n",
       "    </tr>\n",
       "    <tr>\n",
       "      <td>17</td>\n",
       "      <td>The Pub Nashville</td>\n",
       "      <td>Music Venue</td>\n",
       "      <td>3</td>\n",
       "    </tr>\n",
       "    <tr>\n",
       "      <td>19</td>\n",
       "      <td>Mercy Lounge</td>\n",
       "      <td>Rock Club</td>\n",
       "      <td>3</td>\n",
       "    </tr>\n",
       "    <tr>\n",
       "      <td>20</td>\n",
       "      <td>The Cannery Ballroom</td>\n",
       "      <td>Music Venue</td>\n",
       "      <td>3</td>\n",
       "    </tr>\n",
       "    <tr>\n",
       "      <td>21</td>\n",
       "      <td>The Listening Room</td>\n",
       "      <td>Music Venue</td>\n",
       "      <td>4</td>\n",
       "    </tr>\n",
       "    <tr>\n",
       "      <td>22</td>\n",
       "      <td>Ole Red</td>\n",
       "      <td>American Restaurant</td>\n",
       "      <td>2</td>\n",
       "    </tr>\n",
       "    <tr>\n",
       "      <td>23</td>\n",
       "      <td>B.B. King's Blues Club</td>\n",
       "      <td>Music Venue</td>\n",
       "      <td>2</td>\n",
       "    </tr>\n",
       "    <tr>\n",
       "      <td>26</td>\n",
       "      <td>The Anchor Fellowship</td>\n",
       "      <td>Church</td>\n",
       "      <td>4</td>\n",
       "    </tr>\n",
       "    <tr>\n",
       "      <td>29</td>\n",
       "      <td>The Distillery Studios</td>\n",
       "      <td>Music Venue</td>\n",
       "      <td>1</td>\n",
       "    </tr>\n",
       "    <tr>\n",
       "      <td>30</td>\n",
       "      <td>Rocketown</td>\n",
       "      <td>Music Venue</td>\n",
       "      <td>4</td>\n",
       "    </tr>\n",
       "  </tbody>\n",
       "</table>\n",
       "</div>"
      ],
      "text/plain": [
       "                                  name           categories  cluster\n",
       "1                     Commodore Grille  American Restaurant        0\n",
       "4                            Music Row          Music Venue        1\n",
       "5     Springwater Supper Club & Lounge             Dive Bar        0\n",
       "8                   Honky Tonk Central                  Bar        2\n",
       "9                            The Local                  Bar        0\n",
       "10        3rd & Lindsley Bar and Grill                  Bar        4\n",
       "12              Robert's Western World                  Bar        2\n",
       "13                  Nudie's Honky Tonk                  Bar        2\n",
       "14                             Layla's                  Bar        2\n",
       "15  Musicians Corner @ Centennial Park          Music Venue        0\n",
       "16                        RCA Studio B        Historic Site        1\n",
       "17                   The Pub Nashville          Music Venue        3\n",
       "19                        Mercy Lounge            Rock Club        3\n",
       "20                The Cannery Ballroom          Music Venue        3\n",
       "21                  The Listening Room          Music Venue        4\n",
       "22                             Ole Red  American Restaurant        2\n",
       "23              B.B. King's Blues Club          Music Venue        2\n",
       "26               The Anchor Fellowship               Church        4\n",
       "29              The Distillery Studios          Music Venue        1\n",
       "30                           Rocketown          Music Venue        4"
      ]
     },
     "execution_count": 51,
     "metadata": {},
     "output_type": "execute_result"
    }
   ],
   "source": [
    "dataframe_filtered['cluster']=model.labels_\n",
    "cluster_data=dataframe_filtered[['name','categories','cluster']]\n",
    "cluster_data=cluster_data[cluster_data.cluster != -1]\n",
    "cluster_data.head(20)"
   ]
  },
  {
   "cell_type": "code",
   "execution_count": 16,
   "metadata": {},
   "outputs": [
    {
     "data": {
      "text/plain": [
       "2    16\n",
       "1     5\n",
       "4     4\n",
       "3     4\n",
       "0     4\n",
       "Name: cluster, dtype: int64"
      ]
     },
     "execution_count": 16,
     "metadata": {},
     "output_type": "execute_result"
    }
   ],
   "source": [
    "cluster_data['cluster'].value_counts()"
   ]
  },
  {
   "cell_type": "code",
   "execution_count": 64,
   "metadata": {},
   "outputs": [
    {
     "data": {
      "image/png": "[encoded data removed]",
      "text/plain": [
       "<Figure size 720x432 with 1 Axes>"
      ]
     },
     "metadata": {
      "needs_background": "light"
     },
     "output_type": "display_data"
    }
   ],
   "source": [
    "df_cluster1=cluster_data[cluster_data.cluster == 1]\n",
    "df_cluster1=df_cluster1['categories'].value_counts()\n",
    "\n",
    "fig, ax = plt.subplots()\n",
    "ax.locator_params(tight=True, nbins=4)\n",
    "plt.autoscale(False)\n",
    "ax.set_yticks([1,2,3,4,5])\n",
    "\n",
    "df_cluster1.plot(kind='bar', figsize=(10, 6), color='steelblue')\n",
    "\n",
    "plt.xlabel('subcategory') # add to x-label to the plot\n",
    "plt.ylabel('count') # add y-label to the plot\n",
    "plt.title('Breakdown of Music Venue Subcategories for Cluster 1 / blue') # add title to the plot\n",
    "\n",
    "\n",
    "\n",
    "plt.show()"
   ]
  },
  {
   "cell_type": "code",
   "execution_count": 63,
   "metadata": {},
   "outputs": [
    {
     "data": {
      "image/png": "[encoded data removed]",
      "text/plain": [
       "<Figure size 720x432 with 1 Axes>"
      ]
     },
     "metadata": {
      "needs_background": "light"
     },
     "output_type": "display_data"
    }
   ],
   "source": [
    "df_cluster3=cluster_data[cluster_data.cluster == 3]\n",
    "df_cluster3=df_cluster3['categories'].value_counts()\n",
    "\n",
    "fig, ax = plt.subplots()\n",
    "ax.locator_params(tight=True, nbins=4)\n",
    "plt.autoscale(False)\n",
    "ax.set_yticks([1,2,3,4])\n",
    "\n",
    "df_cluster3.plot(kind='bar', figsize=(10, 6), color='limegreen')\n",
    "\n",
    "plt.xlabel('subcategory') # add to x-label to the plot\n",
    "plt.ylabel('count') # add y-label to the plot\n",
    "plt.title('Breakdown of Music Venue Subcategories for Cluster 3 / green') # add title to the plot\n",
    "\n",
    "plt.show()"
   ]
  },
  {
   "cell_type": "code",
   "execution_count": 65,
   "metadata": {},
   "outputs": [
    {
     "data": {
      "image/png": "[encoded data removed]",
      "text/plain": [
       "<Figure size 720x432 with 1 Axes>"
      ]
     },
     "metadata": {
      "needs_background": "light"
     },
     "output_type": "display_data"
    }
   ],
   "source": [
    "df_cluster4=cluster_data[cluster_data.cluster == 4]\n",
    "df_cluster4=df_cluster4['categories'].value_counts()\n",
    "\n",
    "fig, ax = plt.subplots()\n",
    "ax.locator_params(tight=True, nbins=4)\n",
    "plt.autoscale(False)\n",
    "ax.set_yticks([1,2,3,4])\n",
    "\n",
    "df_cluster4.plot(kind='bar', figsize=(10, 6), color='gold')\n",
    "\n",
    "plt.xlabel('subcategory') # add to x-label to the plot\n",
    "plt.ylabel('count') # add y-label to the plot\n",
    "plt.title('Breakdown of Music Venue Subcategories for Cluster 4 / yellow') # add title to the plot\n",
    "\n",
    "plt.show()"
   ]
  },
  {
   "cell_type": "code",
   "execution_count": 62,
   "metadata": {},
   "outputs": [
    {
     "data": {
      "image/png": "[encoded data removed]",
      "text/plain": [
       "<Figure size 720x432 with 1 Axes>"
      ]
     },
     "metadata": {
      "needs_background": "light"
     },
     "output_type": "display_data"
    }
   ],
   "source": [
    "df_cluster2=cluster_data[cluster_data.cluster == 2]\n",
    "df_cluster2=df_cluster2['categories'].value_counts()\n",
    "\n",
    "fig, ax = plt.subplots()\n",
    "ax.locator_params(tight=True, nbins=4)\n",
    "\n",
    "df_cluster2.plot(kind='bar', figsize=(10, 6), color='c')\n",
    "\n",
    "plt.xlabel('subcategory') # add to x-label to the plot\n",
    "plt.ylabel('count') # add y-label to the plot\n",
    "plt.title('Breakdown of Music Venue Subcategories for Cluster 2 / Cyan') # add title to the plot\n",
    "\n",
    "plt.show()"
   ]
  },
  {
   "cell_type": "code",
   "execution_count": 66,
   "metadata": {},
   "outputs": [
    {
     "data": {
      "image/png": "[encoded data removed]",
      "text/plain": [
       "<Figure size 720x432 with 1 Axes>"
      ]
     },
     "metadata": {
      "needs_background": "light"
     },
     "output_type": "display_data"
    }
   ],
   "source": [
    "df_cluster0=cluster_data[cluster_data.cluster == 0]\n",
    "df_cluster0=df_cluster0['categories'].value_counts()\n",
    "\n",
    "fig, ax = plt.subplots()\n",
    "ax.locator_params(tight=True, nbins=4)\n",
    "plt.autoscale(False)\n",
    "ax.set_yticks([1,2,3])\n",
    "\n",
    "df_cluster0.plot(kind='bar', figsize=(10, 6), color='indigo')\n",
    "\n",
    "plt.xlabel('subcategory') # add to x-label to the plot\n",
    "plt.ylabel('count') # add y-label to the plot\n",
    "plt.title('Breakdown of Music Venue Subcategories for Cluster 0 / purple') # add title to the plot\n",
    "\n",
    "\n",
    "plt.show()"
   ]
  },
  {
   "cell_type": "markdown",
   "metadata": {},
   "source": [
    "### Finally we can use the Foursqure API one more time to retrieve the ratings for each venue.\n",
    "### Lets create a loop that will show us all 50 results.\n",
    "### The free version of the Foursquare API limits the number of calls you can make to retrieve this information, so be careful!"
   ]
  },
  {
   "cell_type": "code",
   "execution_count": 22,
   "metadata": {},
   "outputs": [
    {
     "name": "stdout",
     "output_type": "stream",
     "text": [
      "8.8 5538733e498e339377d11a0f\n",
      "6.5 4b1c441cf964a5203a0524e3\n",
      "This venue has not been rated yet. 5dbaf91c212f1d0008e5459b\n",
      "7.9 4c2a5387d1a10f478144f664\n",
      "8.3 4c51f113250dd13aa45a0b7e\n",
      "7.0 4b058669f964a520f16022e3\n",
      "7.7 4b05866af964a520326122e3\n",
      "9.4 4b073747f964a520d4f922e3\n",
      "8.4 4f4969b8e4b096208878d9eb\n",
      "This venue has not been rated yet. 5a8a4a87c97f285cf671ab4d\n",
      "8.9 4b058668f964a520cb6022e3\n",
      "8.5 4e7d64ac196b2107d844db5c\n",
      "8.6 4b058669f964a520ed6022e3\n",
      "8.9 5838b1be424f9379714ee353\n",
      "8.1 4b197e7ef964a5205cde23e3\n",
      "8.7 4c38d74e3849c928303bc0b1\n",
      "8.7 4e1b0c6662e16895c3f56d8a\n",
      "This venue has not been rated yet. 570f493e498e41406f476d6a\n",
      "8.6 4b05866af964a520236122e3\n",
      "9.0 4b05866af964a5200b6122e3\n",
      "8.5 4b058674f964a5200b6322e3\n",
      "7.4 59dd8f70065ef52f745c23af\n",
      "8.7 5ae733e073fe25002b458d68\n",
      "8.3 4b05866af964a5201f6122e3\n",
      "8.2 4b135005f964a520509623e3\n",
      "7.8 5698a1c1498e3186137bb598\n",
      "7.6 4bafdb84f964a52092263ce3\n",
      "7.7 4b058669f964a520f36022e3\n",
      "This venue has not been rated yet. 50395817e4b0173f757aed34\n",
      "This venue has not been rated yet. 513f9395e4b0268b6a7c40fc\n",
      "8.1 4b05866af964a520166122e3\n",
      "This venue has not been rated yet. 5716c36338fa0f8a983265e7\n",
      "This venue has not been rated yet. 4cd5ee6a2944b1f7c94060ec\n",
      "This venue has not been rated yet. 544af3bf498e317ec4c4032c\n",
      "This venue has not been rated yet. 56346fa7498e862cbd0011b9\n",
      "8.7 53b605bc498e876802858496\n",
      "5.8 4b0adef9f964a5203e2923e3\n",
      "9.0 4b8c3d87f964a520f7c532e3\n",
      "9.5 4b05866ff964a520296222e3\n",
      "8.1 4b16e6baf964a52035bf23e3\n",
      "8.5 4b058669f964a520f06022e3\n",
      "8.9 4c896989770fb60c02aac9c3\n",
      "This venue has not been rated yet. 5646e4df498e0cf95d6129fd\n",
      "8.6 4b10b461f964a520f17423e3\n",
      "8.3 5b0b445467a9fe002cd23f6a\n",
      "9.0 55807ef3498eb8ba1bef5b66\n",
      "This venue has not been rated yet. 4e9b6f8a30f87c966cabafa6\n",
      "This venue has not been rated yet. 4db22eeaa86e2185363dbda0\n",
      "This venue has not been rated yet. 56459339498e0cf95ca3a4a1\n",
      "7.3 4fcd15dabe77c84b2c6fab78\n"
     ]
    }
   ],
   "source": [
    "i_list = dataframe_filtered['id'].tolist()\n",
    "\n",
    "for t in i_list:\n",
    "    result = requests.get('https://api.foursquare.com/v2/venues/{}?client_id={}&client_secret={}&v={}'.format(t, CLIENT_ID, CLIENT_SECRET, VERSION)).json()\n",
    "    try:\n",
    "        print(result['response']['venue']['rating'], t)\n",
    "    except:\n",
    "        print('This venue has not been rated yet.', t)\n"
   ]
  },
  {
   "cell_type": "markdown",
   "metadata": {},
   "source": [
    "### Using those results, we can display a dataframe that shows the clusters and names of the top 10 venues based on ratings."
   ]
  },
  {
   "cell_type": "code",
   "execution_count": 68,
   "metadata": {},
   "outputs": [
    {
     "data": {
      "text/html": [
       "<div>\n",
       "<style scoped>\n",
       "    .dataframe tbody tr th:only-of-type {\n",
       "        vertical-align: middle;\n",
       "    }\n",
       "\n",
       "    .dataframe tbody tr th {\n",
       "        vertical-align: top;\n",
       "    }\n",
       "\n",
       "    .dataframe thead th {\n",
       "        text-align: right;\n",
       "    }\n",
       "</style>\n",
       "<table border=\"1\" class=\"dataframe\">\n",
       "  <thead>\n",
       "    <tr style=\"text-align: right;\">\n",
       "      <th></th>\n",
       "      <th>name</th>\n",
       "      <th>cluster</th>\n",
       "    </tr>\n",
       "    <tr>\n",
       "      <th>id</th>\n",
       "      <th></th>\n",
       "      <th></th>\n",
       "    </tr>\n",
       "  </thead>\n",
       "  <tbody>\n",
       "    <tr>\n",
       "      <td>4b073747f964a520d4f922e3</td>\n",
       "      <td>Centennial Park</td>\n",
       "      <td>-1</td>\n",
       "    </tr>\n",
       "    <tr>\n",
       "      <td>4b05866af964a5200b6122e3</td>\n",
       "      <td>Mercy Lounge</td>\n",
       "      <td>3</td>\n",
       "    </tr>\n",
       "    <tr>\n",
       "      <td>4b8c3d87f964a520f7c532e3</td>\n",
       "      <td>Bridgestone Arena</td>\n",
       "      <td>2</td>\n",
       "    </tr>\n",
       "    <tr>\n",
       "      <td>4b05866ff964a520296222e3</td>\n",
       "      <td>Ryman Auditorium</td>\n",
       "      <td>2</td>\n",
       "    </tr>\n",
       "    <tr>\n",
       "      <td>55807ef3498eb8ba1bef5b66</td>\n",
       "      <td>Ascend Amphitheater</td>\n",
       "      <td>2</td>\n",
       "    </tr>\n",
       "    <tr>\n",
       "      <td>4c896989770fb60c02aac9c3</td>\n",
       "      <td>Live On The Green Music Festival</td>\n",
       "      <td>-1</td>\n",
       "    </tr>\n",
       "    <tr>\n",
       "      <td>5838b1be424f9379714ee353</td>\n",
       "      <td>Nudie's Honky Tonk</td>\n",
       "      <td>2</td>\n",
       "    </tr>\n",
       "    <tr>\n",
       "      <td>4b058668f964a520cb6022e3</td>\n",
       "      <td>3rd &amp; Lindsley Bar and Grill</td>\n",
       "      <td>4</td>\n",
       "    </tr>\n",
       "    <tr>\n",
       "      <td>5538733e498e339377d11a0f</td>\n",
       "      <td>The Basement East</td>\n",
       "      <td>-1</td>\n",
       "    </tr>\n",
       "    <tr>\n",
       "      <td>4c38d74e3849c928303bc0b1</td>\n",
       "      <td>Musicians Corner @ Centennial Park</td>\n",
       "      <td>0</td>\n",
       "    </tr>\n",
       "  </tbody>\n",
       "</table>\n",
       "</div>"
      ],
      "text/plain": [
       "                                                        name  cluster\n",
       "id                                                                   \n",
       "4b073747f964a520d4f922e3                     Centennial Park       -1\n",
       "4b05866af964a5200b6122e3                        Mercy Lounge        3\n",
       "4b8c3d87f964a520f7c532e3                   Bridgestone Arena        2\n",
       "4b05866ff964a520296222e3                    Ryman Auditorium        2\n",
       "55807ef3498eb8ba1bef5b66                 Ascend Amphitheater        2\n",
       "4c896989770fb60c02aac9c3    Live On The Green Music Festival       -1\n",
       "5838b1be424f9379714ee353                  Nudie's Honky Tonk        2\n",
       "4b058668f964a520cb6022e3        3rd & Lindsley Bar and Grill        4\n",
       "5538733e498e339377d11a0f                   The Basement East       -1\n",
       "4c38d74e3849c928303bc0b1  Musicians Corner @ Centennial Park        0"
      ]
     },
     "execution_count": 68,
     "metadata": {},
     "output_type": "execute_result"
    }
   ],
   "source": [
    "df_scores=dataframe_filtered[['id','name','cluster']]\n",
    "df_scores=df_scores.set_index('id')\n",
    "df_scores.loc[['4b073747f964a520d4f922e3','4b05866af964a5200b6122e3','4b8c3d87f964a520f7c532e3','4b05866ff964a520296222e3','55807ef3498eb8ba1bef5b66','4c896989770fb60c02aac9c3','5838b1be424f9379714ee353','4b058668f964a520cb6022e3','5538733e498e339377d11a0f','4c38d74e3849c928303bc0b1'], : ]"
   ]
  },
  {
   "cell_type": "markdown",
   "metadata": {},
   "source": [
    "### Cluster 2, located in the central downtown area, not only has the most venues, but by far the most top 10 venues as well.\n",
    "### There are 3 venues in the top 10 that have a -1 cluster value, meaning they are not located in any cluster."
   ]
  },
  {
   "cell_type": "code",
   "execution_count": null,
   "metadata": {},
   "outputs": [],
   "source": []
  }
 ],
 "metadata": {
  "kernelspec": {
   "display_name": "Python 3",
   "language": "python",
   "name": "python3"
  },
  "language_info": {
   "codemirror_mode": {
    "name": "ipython",
    "version": 3
   },
   "file_extension": ".py",
   "mimetype": "text/x-python",
   "name": "python",
   "nbconvert_exporter": "python",
   "pygments_lexer": "ipython3",
   "version": "3.7.4"
  }
 },
 "nbformat": 4,
 "nbformat_minor": 4
}
